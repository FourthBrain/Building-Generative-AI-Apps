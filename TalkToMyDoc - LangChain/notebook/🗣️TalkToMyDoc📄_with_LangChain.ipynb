{
  "nbformat": 4,
  "nbformat_minor": 0,
  "metadata": {
    "colab": {
      "provenance": []
    },
    "kernelspec": {
      "name": "python3",
      "display_name": "Python 3"
    },
    "language_info": {
      "name": "python"
    }
  },
  "cells": [
    {
      "cell_type": "markdown",
      "source": [
        "### The Basics of LangChain\n",
        "\n",
        "In this notebook we'll explore exactly what LangChain is doing - and implement a straightforward example that lets us ask questions of any Arxiv.org paper we want!\n",
        "\n",
        "First things first, let's get our dependencies all set!"
      ],
      "metadata": {
        "id": "kEKghJQ2pmYH"
      }
    },
    {
      "cell_type": "code",
      "execution_count": 2,
      "metadata": {
        "id": "fXsYHTgvnCM2",
        "colab": {
          "base_uri": "https://localhost:8080/"
        },
        "outputId": "fb8b6ce6-9887-46e0-8d1a-96f678bee85d"
      },
      "outputs": [
        {
          "output_type": "stream",
          "name": "stdout",
          "text": [
            "\u001b[2K     \u001b[90m━━━━━━━━━━━━━━━━━━━━━━━━━━━━━━━━━━━━━━━━\u001b[0m \u001b[32m70.3/70.3 kB\u001b[0m \u001b[31m5.8 MB/s\u001b[0m eta \u001b[36m0:00:00\u001b[0m\n",
            "\u001b[2K     \u001b[90m━━━━━━━━━━━━━━━━━━━━━━━━━━━━━━━━━━━━━━\u001b[0m \u001b[32m645.3/645.3 kB\u001b[0m \u001b[31m44.6 MB/s\u001b[0m eta \u001b[36m0:00:00\u001b[0m\n",
            "\u001b[2K     \u001b[90m━━━━━━━━━━━━━━━━━━━━━━━━━━━━━━━━━━━━━━━━\u001b[0m \u001b[32m1.0/1.0 MB\u001b[0m \u001b[31m47.8 MB/s\u001b[0m eta \u001b[36m0:00:00\u001b[0m\n",
            "\u001b[2K     \u001b[90m━━━━━━━━━━━━━━━━━━━━━━━━━━━━━━━━━━━━━━━━\u001b[0m \u001b[32m90.0/90.0 kB\u001b[0m \u001b[31m7.9 MB/s\u001b[0m eta \u001b[36m0:00:00\u001b[0m\n",
            "\u001b[2K     \u001b[90m━━━━━━━━━━━━━━━━━━━━━━━━━━━━━━━━━━━━━━\u001b[0m \u001b[32m158.8/158.8 kB\u001b[0m \u001b[31m12.2 MB/s\u001b[0m eta \u001b[36m0:00:00\u001b[0m\n",
            "\u001b[2K     \u001b[90m━━━━━━━━━━━━━━━━━━━━━━━━━━━━━━━━━━━━━━\u001b[0m \u001b[32m114.2/114.2 kB\u001b[0m \u001b[31m11.2 MB/s\u001b[0m eta \u001b[36m0:00:00\u001b[0m\n",
            "\u001b[2K     \u001b[90m━━━━━━━━━━━━━━━━━━━━━━━━━━━━━━━━━━━━━━\u001b[0m \u001b[32m269.4/269.4 kB\u001b[0m \u001b[31m20.4 MB/s\u001b[0m eta \u001b[36m0:00:00\u001b[0m\n",
            "\u001b[2K     \u001b[90m━━━━━━━━━━━━━━━━━━━━━━━━━━━━━━━━━━━━━━━━\u001b[0m \u001b[32m49.1/49.1 kB\u001b[0m \u001b[31m4.5 MB/s\u001b[0m eta \u001b[36m0:00:00\u001b[0m\n",
            "\u001b[?25h"
          ]
        }
      ],
      "source": [
        "!pip install openai langchain -q"
      ]
    },
    {
      "cell_type": "markdown",
      "source": [
        "You'll need to have an OpenAI API key for this next part - see [this](https://www.onmsft.com/how-to/how-to-get-an-openai-api-key/) if you haven't already set one up!"
      ],
      "metadata": {
        "id": "T0sLjfy8p3jf"
      }
    },
    {
      "cell_type": "code",
      "source": [
        "import os \n",
        "os.environ[\"OPENAI_API_KEY\"] = \"\""
      ],
      "metadata": {
        "id": "0TTosnCHnGHG"
      },
      "execution_count": 3,
      "outputs": []
    },
    {
      "cell_type": "markdown",
      "source": [
        "#### Helper Functions (run this cell)"
      ],
      "metadata": {
        "id": "15M3Jx6SBXcO"
      }
    },
    {
      "cell_type": "code",
      "source": [
        "from IPython.display import display, Markdown\n",
        "\n",
        "def disp_markdown(text: str) -> None:\n",
        "  display(Markdown(text))"
      ],
      "metadata": {
        "id": "k3SBzWBUpQ21"
      },
      "execution_count": 4,
      "outputs": []
    },
    {
      "cell_type": "markdown",
      "source": [
        "### Our First LangChain ChatModel"
      ],
      "metadata": {
        "id": "fU4LWrv-BayH"
      }
    },
    {
      "cell_type": "markdown",
      "source": [
        "\n",
        "\n",
        "---\n",
        "\n",
        "\n",
        "<div class=\"warn\">Note: Information on OpenAI's <a href=https://openai.com/pricing>pricing</a> and <a href=https://openai.com/policies/usage-policies>usage policies.</a></div>\n",
        "\n",
        "\n",
        "\n",
        "---\n",
        "\n"
      ],
      "metadata": {
        "id": "p-M-VQhQOC1c"
      }
    },
    {
      "cell_type": "markdown",
      "source": [
        "Now that we're set-up with OpenAI's API - we can begin making our first ChatModel!\n",
        "\n",
        "There's a few important things to consider when we're using LangChain's ChatModel that are outlined [here](https://python.langchain.com/en/latest/modules/models/chat.html)\n",
        "\n",
        "Let's begin by initializing the model with OpenAI's `gpt-3.5-turbo` (ChatGPT) model.\n",
        "\n",
        "We're not going to be leveraging the [streaming](https://python.langchain.com/en/latest/modules/models/chat/examples/streaming.html) capabilities in this Notebook - just the basics to get us started!"
      ],
      "metadata": {
        "id": "XVkfqk4NOFWS"
      }
    },
    {
      "cell_type": "code",
      "source": [
        "from langchain.chat_models import ChatOpenAI\n",
        "from langchain.schema import HumanMessage\n",
        "\n",
        "chat_model = ChatOpenAI(model_name=\"gpt-3.5-turbo\")"
      ],
      "metadata": {
        "id": "tNscLft_nxBb"
      },
      "execution_count": 5,
      "outputs": []
    },
    {
      "cell_type": "markdown",
      "source": [
        "If we look at the [Chat completions](https://platform.openai.com/docs/guides/chat) documentation for OpenAI's chat models - we'll see that there are a few specific fields we'll need to concern ourselves with:\n",
        "\n",
        "`role`\n",
        "- This refers to one of three \"roles\" that interact with the model in specific ways.\n",
        "- The `system` role is an optional role that can be used to guide the model toward a specific task. Examples of `system` messages might be: \n",
        "  - You are an expert in Python, please answer questions as though we were in a peer coding session.\n",
        "  - You are the world's leading expert in stamps.\n",
        "\n",
        "  These messages help us \"prime\" the model to be more aligned with our desired task!\n",
        "\n",
        "- The `user` role represents, well, the user!\n",
        "- The `assistant` role lets us act in the place of the model's outputs. We can (and will) leverage this for some few-shot prompt engineering!\n",
        "\n",
        "Each of these roles has a class in LangChain to make it nice and easy for us to use! \n",
        "\n",
        "Let's look at an example."
      ],
      "metadata": {
        "id": "vzGhlpwUPyU9"
      }
    },
    {
      "cell_type": "code",
      "source": [
        "from langchain.schema import (\n",
        "    AIMessage, \n",
        "    HumanMessage,\n",
        "    SystemMessage\n",
        ")\n",
        "\n",
        "# The SystemMessage is associated with the system role\n",
        "system_message = SystemMessage(content=\"You are a food critic.\")\n",
        "\n",
        "# The HumanMessage is associated with the user role\n",
        "user_message = HumanMessage(content=\"Do you think Kraft Dinner constitues fine dining?\")\n",
        "\n",
        "# The AIMessage is associated with the assistant role\n",
        "assistant_message = AIMessage(content=\"Egads! No, it most certainly does not!\")"
      ],
      "metadata": {
        "id": "dM7lciZtoPEp"
      },
      "execution_count": null,
      "outputs": []
    },
    {
      "cell_type": "markdown",
      "source": [
        "Now that we have those messages set-up, let's send them to `gpt-3.5-turbo` with a new user message and see how it does!\n",
        "\n",
        "It's easy enough to do this - the ChatOpenAI model accepts a list of inputs!"
      ],
      "metadata": {
        "id": "dSx5HBgjSUvB"
      }
    },
    {
      "cell_type": "code",
      "source": [
        "second_user_message = HumanMessage(content=\"What about Red Lobster, surely that is fine dining!\")\n",
        "\n",
        "# create the list of prompts\n",
        "list_of_prompts = [\n",
        "    system_message,\n",
        "    user_message,\n",
        "    assistant_message,\n",
        "    second_user_message\n",
        "]\n",
        "\n",
        "# we can just call our chat_model on the list of prompts!\n",
        "chat_model(list_of_prompts)"
      ],
      "metadata": {
        "colab": {
          "base_uri": "https://localhost:8080/"
        },
        "id": "LwDLOYOKSTpG",
        "outputId": "94160cfc-c5b6-4825-8838-32e2476bcb73"
      },
      "execution_count": null,
      "outputs": [
        {
          "output_type": "execute_result",
          "data": {
            "text/plain": [
              "AIMessage(content='While Red Lobster is a popular chain restaurant known for its seafood, it is not typically considered fine dining. Fine dining typically refers to restaurants with upscale decor, high-quality ingredients, and expertly crafted dishes that are often served with a higher level of service. While Red Lobster may have some of these elements, it is more of a casual dining experience.', additional_kwargs={})"
            ]
          },
          "metadata": {},
          "execution_count": 26
        }
      ]
    },
    {
      "cell_type": "markdown",
      "source": [
        "Great! That's inline with what we expected to see!"
      ],
      "metadata": {
        "id": "pZMYJDWXTkMq"
      }
    },
    {
      "cell_type": "markdown",
      "source": [
        "### PromptTemplates\n",
        "\n",
        "Next stop, we'll discuss a few templates. This allows us to easily interact with our model by not having to redo work we've already completed!"
      ],
      "metadata": {
        "id": "8DUNhabQUB8f"
      }
    },
    {
      "cell_type": "code",
      "source": [
        "from langchain.prompts.chat import (\n",
        "    ChatPromptTemplate,\n",
        "    SystemMessagePromptTemplate,\n",
        "    HumanMessagePromptTemplate\n",
        ")\n",
        "\n",
        "# we can signify variables we want access to by wrapping them in {}\n",
        "system_prompt_template = \"You are an expert in {SUBJECT}, and you're currently feeling {MOOD}\"\n",
        "system_prompt_template = SystemMessagePromptTemplate.from_template(system_prompt_template)\n",
        "\n",
        "user_prompt_template = \"{CONTENT}\"\n",
        "user_prompt_template = HumanMessagePromptTemplate.from_template(user_prompt_template)\n",
        "\n",
        "# put them together into a ChatPromptTemplate\n",
        "chat_prompt = ChatPromptTemplate.from_messages([system_prompt_template, user_prompt_template])"
      ],
      "metadata": {
        "id": "74vpojywT0-4"
      },
      "execution_count": null,
      "outputs": []
    },
    {
      "cell_type": "markdown",
      "source": [
        "Now that we have our `chat_prompt` set-up with the templates - let's see how we can easily format them with our content!\n",
        "\n",
        "NOTE: `disp_markdown` is just a helper function to display the formatted markdown response."
      ],
      "metadata": {
        "id": "a-nbEW-kV_na"
      }
    },
    {
      "cell_type": "code",
      "source": [
        "# note the method `to_messages()`, that's what converts our formatted prompt into \n",
        "formatted_chat_prompt = chat_prompt.format_prompt(SUBJECT=\"cheeses\", MOOD=\"quite tired\", CONTENT=\"Hi, what are the finest cheeses?\").to_messages()\n",
        "\n",
        "disp_markdown(chat_model(formatted_chat_prompt).content)"
      ],
      "metadata": {
        "colab": {
          "base_uri": "https://localhost:8080/",
          "height": 337
        },
        "id": "P4vd-W2FV7Xq",
        "outputId": "2c4bda02-7ba3-4d72-f6d2-dddeed8c3385"
      },
      "execution_count": null,
      "outputs": [
        {
          "output_type": "display_data",
          "data": {
            "text/plain": [
              "<IPython.core.display.Markdown object>"
            ],
            "text/markdown": "Hello! There are many fine cheeses from around the world, and it's difficult to narrow it down to just a few. However, here are some of the finest cheeses that you might want to try:\n\n1. Parmigiano Reggiano - an Italian hard cheese with a nutty and salty flavor.\n\n2. Roquefort - a French blue cheese with a creamy texture and a sharp, tangy flavor.\n\n3. Gouda - a Dutch cheese with a buttery, nutty flavor and a smooth texture.\n\n4. Manchego - a Spanish sheep's milk cheese with a sharp, nutty flavor.\n\n5. Brie - a French soft cheese with a creamy texture and a mild, buttery flavor.\n\n6. Cheddar - an English cheese with a sharp, tangy flavor and a crumbly texture.\n\n7. Emmental - a Swiss cheese with a nutty, sweet flavor and large holes.\n\n8. Camembert - a French soft cheese with a creamy texture and a rich, earthy flavor.\n\n9. Feta - a Greek cheese with a tangy, salty flavor and a crumbly texture.\n\n10. Mozzarella - an Italian cheese with a mild, creamy flavor and a stretchy texture.\n\nThese are just a few examples of some of the finest cheeses in the world. There are so many more to discover and enjoy!"
          },
          "metadata": {}
        }
      ]
    },
    {
      "cell_type": "markdown",
      "source": [
        "### Putting the Chain in LangChain\n",
        "\n",
        "In essense, a chain is exactly as it sounds - it helps us chain actions together.\n",
        "\n",
        "Let's take a look at an example."
      ],
      "metadata": {
        "id": "hHehNFjAXbU_"
      }
    },
    {
      "cell_type": "code",
      "source": [
        "from langchain.chains import LLMChain\n",
        "\n",
        "chain = LLMChain(llm=chat_model, prompt=chat_prompt)\n",
        "\n",
        "disp_markdown(chain.run(SUBJECT=\"classic cars\", MOOD=\"angry\", CONTENT=\"Is the 67 Chevrolet Impala a good vehicle?\"))"
      ],
      "metadata": {
        "colab": {
          "base_uri": "https://localhost:8080/",
          "height": 163
        },
        "id": "lTzw4ZMoWX0X",
        "outputId": "ed63bd6c-a682-4a95-fbc8-ad5fc678574f"
      },
      "execution_count": null,
      "outputs": [
        {
          "output_type": "display_data",
          "data": {
            "text/plain": [
              "<IPython.core.display.Markdown object>"
            ],
            "text/markdown": "As an AI language model, I do not have emotions and therefore cannot feel angry. However, I can provide you with information about the 1967 Chevrolet Impala.\n\nThe 1967 Chevrolet Impala is considered one of the most iconic American classic cars. It was a full-size car that was available in a variety of body styles, including a convertible, coupe, and sedan. The Impala featured a powerful V8 engine and a comfortable interior, making it a popular choice for those who wanted a combination of performance and luxury.\n\nOverall, the 1967 Chevrolet Impala is considered a good vehicle. It has a strong reputation for reliability, and its classic styling has made it a popular choice among collectors and enthusiasts alike. However, as with any classic car, maintenance and repairs can be costly, so it's important to do your research and make sure you're prepared for the investment before making a purchase."
          },
          "metadata": {}
        }
      ]
    },
    {
      "cell_type": "markdown",
      "source": [
        "### Index Local Files\n",
        "\n",
        "Now that we've got our first chain running, let's talk about indexing and what we can do with it!\n",
        "\n",
        "For the purposes of this tutorial, we'll be using the word \"index\" to refer to a collection of documents organized in a way that is easy for LangChain to access them as a \"Retriever\".\n",
        "\n",
        "Let's check out the Retriever set-up! First, a new dependency!"
      ],
      "metadata": {
        "id": "Md5XYaAj_t51"
      }
    },
    {
      "cell_type": "code",
      "source": [
        "!pip install chromadb tiktoken nltk -q"
      ],
      "metadata": {
        "id": "7mkmPs3GAQMp"
      },
      "execution_count": 34,
      "outputs": []
    },
    {
      "cell_type": "code",
      "source": [
        "import nltk \n",
        "nltk.download('punkt')"
      ],
      "metadata": {
        "colab": {
          "base_uri": "https://localhost:8080/"
        },
        "id": "_dNp7hVQGLFn",
        "outputId": "42185adb-4e14-4dc7-fee9-6f5d320d6c35"
      },
      "execution_count": 35,
      "outputs": [
        {
          "output_type": "stream",
          "name": "stderr",
          "text": [
            "[nltk_data] Downloading package punkt to /root/nltk_data...\n",
            "[nltk_data]   Unzipping tokenizers/punkt.zip.\n"
          ]
        },
        {
          "output_type": "execute_result",
          "data": {
            "text/plain": [
              "True"
            ]
          },
          "metadata": {},
          "execution_count": 35
        }
      ]
    },
    {
      "cell_type": "markdown",
      "source": [
        "Before we can get started with our chain - we'll have to include some kind of text that we want to include as potential context. \n",
        "\n",
        "Let's use Douglas Adam's [The Hitch Hiker's Guide to the Galaxy](https://erki.lap.ee/failid/raamatud/guide1.txt) as our text file. "
      ],
      "metadata": {
        "id": "MFe3eeJTB37W"
      }
    },
    {
      "cell_type": "code",
      "source": [
        "%pwd"
      ],
      "metadata": {
        "colab": {
          "base_uri": "https://localhost:8080/",
          "height": 35
        },
        "id": "vWU68TL2Acpe",
        "outputId": "b3f0ce64-a859-47e0-92d8-361d32414a01"
      },
      "execution_count": 6,
      "outputs": [
        {
          "output_type": "execute_result",
          "data": {
            "text/plain": [
              "'/content'"
            ],
            "application/vnd.google.colaboratory.intrinsic+json": {
              "type": "string"
            }
          },
          "metadata": {},
          "execution_count": 6
        }
      ]
    },
    {
      "cell_type": "code",
      "source": [
        "!wget https://erki.lap.ee/failid/raamatud/guide1.txt"
      ],
      "metadata": {
        "colab": {
          "base_uri": "https://localhost:8080/"
        },
        "id": "jdkQUoQICVwa",
        "outputId": "5d5f7253-f994-4919-aa81-3801641cca3b"
      },
      "execution_count": 7,
      "outputs": [
        {
          "output_type": "stream",
          "name": "stdout",
          "text": [
            "--2023-04-26 14:48:29--  https://erki.lap.ee/failid/raamatud/guide1.txt\n",
            "Resolving erki.lap.ee (erki.lap.ee)... 185.158.177.102\n",
            "Connecting to erki.lap.ee (erki.lap.ee)|185.158.177.102|:443... connected.\n",
            "HTTP request sent, awaiting response... 200 OK\n",
            "Length: 291862 (285K) [text/plain]\n",
            "Saving to: ‘guide1.txt’\n",
            "\n",
            "guide1.txt          100%[===================>] 285.02K   665KB/s    in 0.4s    \n",
            "\n",
            "2023-04-26 14:48:30 (665 KB/s) - ‘guide1.txt’ saved [291862/291862]\n",
            "\n"
          ]
        }
      ]
    },
    {
      "cell_type": "code",
      "source": [
        "from langchain.document_loaders import TextLoader\n",
        "loader = TextLoader('guide1.txt', encoding='utf8')"
      ],
      "metadata": {
        "id": "W7zuITDYCaXo"
      },
      "execution_count": 11,
      "outputs": []
    },
    {
      "cell_type": "markdown",
      "source": [
        "Now we can set up our first Index!\n",
        "\n",
        "More detail can be found [here](https://python.langchain.com/en/latest/modules/indexes/getting_started.html) but we'll skip to a more functional implementation!"
      ],
      "metadata": {
        "id": "xha9YA4wA1-b"
      }
    },
    {
      "cell_type": "code",
      "source": [
        "from langchain.indexes import VectorstoreIndexCreator\n",
        "index = VectorstoreIndexCreator().from_loaders([loader])"
      ],
      "metadata": {
        "colab": {
          "base_uri": "https://localhost:8080/"
        },
        "id": "JuuKSPgTB0Uz",
        "outputId": "2e914f3a-16df-4db9-9c1c-0c3c694f4831"
      },
      "execution_count": 14,
      "outputs": [
        {
          "output_type": "stream",
          "name": "stderr",
          "text": [
            "WARNING:chromadb:Using embedded DuckDB without persistence: data will be transient\n"
          ]
        }
      ]
    },
    {
      "cell_type": "markdown",
      "source": [
        "Now that we have our Index set-up, we can query it straight away!"
      ],
      "metadata": {
        "id": "-nQNNB8NC-XP"
      }
    },
    {
      "cell_type": "code",
      "source": [
        "query = \"What are the importances of towels?\"\n",
        "index.query_with_sources(query)"
      ],
      "metadata": {
        "colab": {
          "base_uri": "https://localhost:8080/"
        },
        "id": "s7vSgpomC9n9",
        "outputId": "82c4cb02-d54b-4e31-e5bc-d1502b9db26c"
      },
      "execution_count": 18,
      "outputs": [
        {
          "output_type": "execute_result",
          "data": {
            "text/plain": [
              "{'question': 'What are the importances of towels?',\n",
              " 'answer': ' Towels are important because they have immense psychological value, can be used for warmth, protection, and distress signals, and can be used to indicate that a person is well-prepared for a journey.\\n',\n",
              " 'sources': 'guide1.txt'}"
            ]
          },
          "metadata": {},
          "execution_count": 18
        }
      ]
    },
    {
      "cell_type": "markdown",
      "source": [
        "### Putting it All Together\n",
        "\n",
        "Now that we have a simple idea of how we prompt, what a chain is, and what an index is - let's put it all together!"
      ],
      "metadata": {
        "id": "5F5tv4ULERDo"
      }
    },
    {
      "cell_type": "code",
      "source": [
        "from langchain.embeddings.openai import OpenAIEmbeddings\n",
        "from langchain.text_splitter import NLTKTextSplitter\n",
        "from langchain.vectorstores import Chroma\n",
        "from langchain.docstore.document import Document\n",
        "from langchain.prompts import PromptTemplate\n",
        "from langchain.indexes.vectorstore import VectorstoreIndexCreator\n",
        "\n",
        "with open(\"guide1.txt\") as f:\n",
        "    hitchhikersguide = f.read()\n",
        "\n",
        "text_splitter = NLTKTextSplitter()\n",
        "texts = text_splitter.split_text(hitchhikersguide)\n",
        "\n",
        "embeddings = OpenAIEmbeddings()"
      ],
      "metadata": {
        "id": "uAHJHsksEx5H"
      },
      "execution_count": 36,
      "outputs": []
    },
    {
      "cell_type": "code",
      "source": [
        "docsearch = Chroma.from_texts(texts, embeddings, metadatas=[{\"source\": str(i)} for i in range(len(texts))]).as_retriever()"
      ],
      "metadata": {
        "colab": {
          "base_uri": "https://localhost:8080/"
        },
        "id": "4Z796M-aE_lU",
        "outputId": "043daf5f-e3fa-456c-a581-cd7c17eb2a01"
      },
      "execution_count": 37,
      "outputs": [
        {
          "output_type": "stream",
          "name": "stderr",
          "text": [
            "WARNING:chromadb:Using embedded DuckDB without persistence: data will be transient\n"
          ]
        }
      ]
    },
    {
      "cell_type": "code",
      "source": [
        "from langchain.chains.question_answering import load_qa_chain\n",
        "from langchain.llms import OpenAI\n",
        "\n",
        "chain = load_qa_chain(OpenAI(temperature=0), chain_type=\"refine\")\n",
        "query = \"Why are towels important?\"\n",
        "docs = docsearch.get_relevant_documents(query)\n",
        "chain({\"input_documents\": docs, \"question\": query}, return_only_outputs=True)"
      ],
      "metadata": {
        "colab": {
          "base_uri": "https://localhost:8080/"
        },
        "id": "SsEM-dR1FEvp",
        "outputId": "64126b63-e825-4226-b923-8cf304c7aba7"
      },
      "execution_count": 40,
      "outputs": [
        {
          "output_type": "execute_result",
          "data": {
            "text/plain": [
              "{'output_text': '\\n\\nTowels are important because they have both practical and psychological value. In the context of the story, Arthur Dent uses a towel to protect himself from a bulldozer in his garden. Towels can also be used for warmth, as a distress signal, for hand-to-hand combat, and to ward off noxious fumes. They also have psychological value, as a strag (non-hitch hiker) will assume that a hitch hiker who has a towel with them is also in possession of other items such as a toothbrush, face flannel, soap, tin of biscuits, flask, compass, map, ball of string, gnat spray, wet weather gear, and a space suit. This gives the hitch hiker a sense of respect and admiration. Towels can also be used to protect oneself from the elements, such as when Arthur Dent used a towel to protect himself from a bulldozer in his garden. In addition, towels can be used to dry off after a swim, to mop up spills, and to provide a comfortable place to sit or lie down. Towels can also be used to protect oneself from the elements, such as when Arthur Dent used a towel to protect himself from a bulldozer in his garden. Furthermore'}"
            ]
          },
          "metadata": {},
          "execution_count": 40
        }
      ]
    }
  ]
}