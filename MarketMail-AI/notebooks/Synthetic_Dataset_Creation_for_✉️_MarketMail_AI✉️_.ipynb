{
  "cells": [
    {
      "cell_type": "markdown",
      "source": [
        "### OpenAI Access\n",
        "\n",
        "First things first, you'll need to set-up an account on [OpenAI](platform.openai.com). Once you've done that - follow [these resources](https://help.openai.com/en/articles/4936850-where-do-i-find-my-secret-api-key) to create an API key. Make sure you save your API key!"
      ],
      "metadata": {
        "id": "saLMqCm7huKq"
      }
    },
    {
      "cell_type": "code",
      "execution_count": 1,
      "metadata": {
        "id": "Ktti2bvoYrWc"
      },
      "outputs": [],
      "source": [
        "import os \n",
        "\n",
        "# Set the OPENAI_API_KEY environment variable\n",
        "os.environ[\"OPENAI_API_KEY\"] = \"\""
      ]
    },
    {
      "cell_type": "markdown",
      "source": [
        "### OpenAI API Library\n",
        "\n",
        "We'll be leveraging [this](https://github.com/openai/openai-python) library to access OpenAI's model endpoints.\n",
        "\n",
        "There are a number of models to choose from and you can find resources about them [here](https://platform.openai.com/docs/models) and their pricing [here](https://openai.com/pricing).\n",
        "\n",
        "The first step is to install `openai`!"
      ],
      "metadata": {
        "id": "jzK0jIw8tgjS"
      }
    },
    {
      "cell_type": "code",
      "source": [
        "!pip install openai -q"
      ],
      "metadata": {
        "id": "UpeXOOlfqZCb",
        "outputId": "79657a23-1817-4a73-a536-71724de2f437",
        "colab": {
          "base_uri": "https://localhost:8080/"
        }
      },
      "execution_count": 3,
      "outputs": [
        {
          "output_type": "stream",
          "name": "stdout",
          "text": [
            "\u001b[2K     \u001b[90m━━━━━━━━━━━━━━━━━━━━━━━━━━━━━━━━━━━━━━━━\u001b[0m \u001b[32m70.3/70.3 kB\u001b[0m \u001b[31m1.8 MB/s\u001b[0m eta \u001b[36m0:00:00\u001b[0m\n",
            "\u001b[2K     \u001b[90m━━━━━━━━━━━━━━━━━━━━━━━━━━━━━━━━━━━━━━━━\u001b[0m \u001b[32m1.0/1.0 MB\u001b[0m \u001b[31m18.1 MB/s\u001b[0m eta \u001b[36m0:00:00\u001b[0m\n",
            "\u001b[2K     \u001b[90m━━━━━━━━━━━━━━━━━━━━━━━━━━━━━━━━━━━━━━\u001b[0m \u001b[32m114.2/114.2 kB\u001b[0m \u001b[31m11.8 MB/s\u001b[0m eta \u001b[36m0:00:00\u001b[0m\n",
            "\u001b[2K     \u001b[90m━━━━━━━━━━━━━━━━━━━━━━━━━━━━━━━━━━━━━━\u001b[0m \u001b[32m158.8/158.8 kB\u001b[0m \u001b[31m12.6 MB/s\u001b[0m eta \u001b[36m0:00:00\u001b[0m\n",
            "\u001b[2K     \u001b[90m━━━━━━━━━━━━━━━━━━━━━━━━━━━━━━━━━━━━━━\u001b[0m \u001b[32m269.4/269.4 kB\u001b[0m \u001b[31m24.3 MB/s\u001b[0m eta \u001b[36m0:00:00\u001b[0m\n",
            "\u001b[?25h"
          ]
        }
      ]
    },
    {
      "cell_type": "markdown",
      "source": [
        "Once we've installed it, we need to import it and set our API key!"
      ],
      "metadata": {
        "id": "lM7zC-wPuxgZ"
      }
    },
    {
      "cell_type": "code",
      "source": [
        "import openai \n",
        "\n",
        "openai.api_key = os.environ.get(\"OPENAI_API_KEY\")"
      ],
      "metadata": {
        "id": "SrdunVxHuQbC"
      },
      "execution_count": 4,
      "outputs": []
    },
    {
      "cell_type": "markdown",
      "source": [
        "If you wanted to use `gpt-4`, you'd need an account that has closed beta access to the model endpoint. \n",
        "\n",
        "You can check if your API Key has access using the following cell."
      ],
      "metadata": {
        "id": "HB9Syy4Ku59z"
      }
    },
    {
      "cell_type": "code",
      "source": [
        "# check if acct. has gpt-4 access\n",
        "\"gpt-4\" in [model[\"root\"] for model in openai.Model.list()[\"data\"]]"
      ],
      "metadata": {
        "colab": {
          "base_uri": "https://localhost:8080/"
        },
        "id": "pOLxFHowvQxO",
        "outputId": "6bd48964-4638-47ed-d53a-a58cd7df7a2d"
      },
      "execution_count": 5,
      "outputs": [
        {
          "output_type": "execute_result",
          "data": {
            "text/plain": [
              "True"
            ]
          },
          "metadata": {},
          "execution_count": 5
        }
      ]
    },
    {
      "cell_type": "markdown",
      "source": [
        "For the rest of the tutorial, we're going to assume you're using `gpt-3.5-turbo` as your model.\n",
        "\n",
        "Let's make some helper functions for prompting our model and generating our prompts."
      ],
      "metadata": {
        "id": "XLzL4KLtS74x"
      }
    },
    {
      "cell_type": "code",
      "source": [
        "def prompt_model(prompt_list, model=\"gpt-3.5-turbo\"):\n",
        "  return openai.ChatCompletion.create(model=model, messages=prompt_list)\n",
        "\n",
        "def create_prompt(role, prompt):\n",
        "  return {\"role\" : role, \"content\" : prompt}"
      ],
      "metadata": {
        "id": "AX3FWxWSS7Pm"
      },
      "execution_count": 7,
      "outputs": []
    },
    {
      "cell_type": "markdown",
      "source": [
        "As you can see, our prompts have to be in a specific format - as set by OpenAI.\n",
        "\n",
        "Here's an example:\n",
        "\n",
        "```\n",
        "{\"role\" : \"system\", \"content\" : \"You are an expert in Python programming.\"}\n",
        "{\"role\" : \"user\", \"content\" : \"Please define a function that provides the Nth number of the fibonacci sequence.\"}\n",
        "```\n",
        "\n",
        "Let's see that in action! Remember that you can feed OpenAI's chat completion endpoint with a list of prompts!"
      ],
      "metadata": {
        "id": "CS7BCtXuURf0"
      }
    },
    {
      "cell_type": "code",
      "source": [
        "list_of_prompts = [\n",
        "    {\"role\" : \"system\", \"content\" : \"You are an expert in Python programming.\"}, \n",
        "    {\"role\" : \"user\", \"content\" : \"Please define a function that provides the Nth number of the fibonacci sequence.\"}\n",
        "]\n",
        "\n",
        "model_output = prompt_model(list_of_prompts)\n",
        "print(model_output)"
      ],
      "metadata": {
        "colab": {
          "base_uri": "https://localhost:8080/"
        },
        "id": "Js3DlcsBUrl8",
        "outputId": "22500f3b-c605-4bde-bc91-a36884cbce34"
      },
      "execution_count": 8,
      "outputs": [
        {
          "output_type": "stream",
          "name": "stdout",
          "text": [
            "{\n",
            "  \"choices\": [\n",
            "    {\n",
            "      \"finish_reason\": \"stop\",\n",
            "      \"index\": 0,\n",
            "      \"message\": {\n",
            "        \"content\": \"Sure! Here's a function that returns the Nth number in the Fibonacci sequence using recursion:\\n\\n```python\\ndef fibonacci(n):\\n    if n <= 0:\\n        return \\\"Invalid input, n should be greater than or equal to 1\\\"\\n    elif n == 1:\\n        return 0\\n    elif n == 2:\\n        return 1\\n    else:\\n        return fibonacci(n - 1) + fibonacci(n - 2)\\n\\n# Example Usage:\\nn = 10\\nprint(f\\\"The {n}th number in the Fibonacci sequence is {fibonacci(n)}\\\")\\n```\\n\\nPlease note that this implementation is not optimized for large values of `n` as it has an exponential time complexity. For larger values of `n`, I recommend using dynamic programming or matrix exponentiation to solve the problem.\",\n",
            "        \"role\": \"assistant\"\n",
            "      }\n",
            "    }\n",
            "  ],\n",
            "  \"created\": 1682484371,\n",
            "  \"id\": \"chatcmpl-79RKdT6EXbI3JlXY6bKb9IBfIARfh\",\n",
            "  \"model\": \"gpt-4-0314\",\n",
            "  \"object\": \"chat.completion\",\n",
            "  \"usage\": {\n",
            "    \"completion_tokens\": 166,\n",
            "    \"prompt_tokens\": 34,\n",
            "    \"total_tokens\": 200\n",
            "  }\n",
            "}\n"
          ]
        }
      ]
    },
    {
      "cell_type": "markdown",
      "source": [
        "As you can see, we get a lot of information back from the endpoint. \n",
        "\n",
        "We can see the number of tokens we used, why the output stopped, what the output is, and more!\n",
        "\n",
        "Let's view the prompt a bit clearer using some display libraries. "
      ],
      "metadata": {
        "id": "tC3EcGQxVWID"
      }
    },
    {
      "cell_type": "code",
      "source": [
        "from IPython.display import display, Markdown\n",
        "\n",
        "markdown_output = model_output[\"choices\"][0][\"message\"][\"content\"]\n",
        "\n",
        "display(Markdown(markdown_output))"
      ],
      "metadata": {
        "colab": {
          "base_uri": "https://localhost:8080/",
          "height": 319
        },
        "id": "H9z97v9eVnvn",
        "outputId": "3c0bf2f5-18ef-4ed4-dafb-75bb7b177abe"
      },
      "execution_count": 9,
      "outputs": [
        {
          "output_type": "display_data",
          "data": {
            "text/plain": [
              "<IPython.core.display.Markdown object>"
            ],
            "text/markdown": "Sure! Here's a function that returns the Nth number in the Fibonacci sequence using recursion:\n\n```python\ndef fibonacci(n):\n    if n <= 0:\n        return \"Invalid input, n should be greater than or equal to 1\"\n    elif n == 1:\n        return 0\n    elif n == 2:\n        return 1\n    else:\n        return fibonacci(n - 1) + fibonacci(n - 2)\n\n# Example Usage:\nn = 10\nprint(f\"The {n}th number in the Fibonacci sequence is {fibonacci(n)}\")\n```\n\nPlease note that this implementation is not optimized for large values of `n` as it has an exponential time complexity. For larger values of `n`, I recommend using dynamic programming or matrix exponentiation to solve the problem."
          },
          "metadata": {}
        }
      ]
    },
    {
      "cell_type": "markdown",
      "source": [
        "### Generating Synthetic Data\n",
        "\n",
        "Alright, now we can pull everything together and start creating our synthetic data!\n",
        "\n",
        "**NOTE:** Using OpenAI's endpoints to create our dataset does mean that we cannot use our model for commercial use. This is meant to demonstrate the methods, and can be extended to any open-source LLM."
      ],
      "metadata": {
        "id": "AKPMtZXKWnj9"
      }
    },
    {
      "cell_type": "markdown",
      "source": [
        "We're going to use this process to create 100 product/marketing email pairs. \n",
        "\n",
        "We'll be doing this in 2-steps:\n",
        "\n",
        "1. Create the 100 products and short descriptions.\n",
        "2. Create marketing emails for each of those 100 product/descriptions.\n",
        "\n",
        "Let's begin by creating the prompt for our products/descriptions!"
      ],
      "metadata": {
        "id": "-t2gQB22W7yF"
      }
    },
    {
      "cell_type": "code",
      "execution_count": 10,
      "metadata": {
        "id": "audN435yYrWd"
      },
      "outputs": [],
      "source": [
        "datagen_prompts = [\n",
        "    {\"role\" : \"system\", \"content\" : \"You are a product innovator. You create new products that people crave.\"},\n",
        "    {\"role\" : \"user\", \"content\" : \"Please generate a Python list of 100 new products and extremely short descriptions.\"},\n",
        "]"
      ]
    },
    {
      "cell_type": "code",
      "execution_count": 11,
      "metadata": {
        "id": "VUJPivDkYrWd",
        "outputId": "efa3c5c2-1d8b-4c6c-b97d-16c55ab75d66",
        "colab": {
          "base_uri": "https://localhost:8080/"
        }
      },
      "outputs": [
        {
          "output_type": "stream",
          "name": "stdout",
          "text": [
            "Here's a list of 100 new product ideas and their extremely short descriptions:\n",
            "\n",
            "1. SmartEyes - Glasses with real-time translation.\n",
            "2. SolarCup - Self-heating coffee cup.\n",
            "3. FingerCharge - Charging device on fingertips.\n",
            "4. DreamMapper - App for decoding dreams.\n",
            "5. FlexiFridge - Expandable refrigerator.\n",
            "6. AnyTaste Gum - Flavor-changing chewing gum.\n",
            "7. AirPrint - Mini portable air printer.\n",
            "8. PlantBuddy - Plant care monitoring system.\n",
            "9. MoodWear - Color-changing clothes.\n",
            "10. SunscreenPill - Oral sunscreen supplement.\n",
            "11. FreshStep - Instant shoe deodorizer.\n",
            "12. AllerGone - Nasal filter for allergens.\n",
            "13. SlimPlate - Portion control eating assistant.\n",
            "14. PureRain - Drinking water from air.\n",
            "15. OceanEnergy - Wave-powered chargers.\n",
            "16. EZPark - In-vehicle parking assist.\n",
            "17. ArtAroma - Scent-based virtual gallery.\n",
            "18. TimeKey - Personal time management device.\n",
            "19. BiteBuddy - Utensil set for one-handed use.\n",
            "20. CookTogether - Recipe sharing platform.\n",
            "21. HeartBand - Silent alarm wristband.\n",
            "22. GrooveSocks - Musical shoe inserts.\n",
            "23. EInkSkin - Temporary tattoo printer.\n",
            "24. VoiceMe - Personal voice assistant device.\n",
            "25. InstaFreeze - Instant food cooling gadget.\n",
            "26. HoloFit - Holographic fitness trainer.\n",
            "27. GeneTaste - DNA-based food recommendations.\n",
            "28. WakeAway - Alarm clock with customizable escape route.\n",
            "29. PillWatch - Smart pill reminder bracelet.\n",
            "30. NoiseZap - Noise canceling earplugs.\n",
            "31. AquaClock - Water-powered alarm clock.\n",
            "32. TangleFree - Magnetic earbud organizer.\n",
            "33. GreenGuru - Eco-friendly living guide app.\n",
            "34. RoboPet - AI-based virtual pet.\n",
            "35. 3Doodle - 3D printing pen with multiple materials.\n",
            "36. SpaceKnot - Zero-gravity blanket.\n",
            "37. GamerGrip - Sweat-resistant controller grips.\n",
            "38. FreshFridge - Spoilage monitoring system.\n",
            "39. EarZoom - Sound amplifying earpiece.\n",
            "40. HairGuard - Automatic hair trimmer.\n",
            "41. FoldWheel - Portable collapsible bike.\n",
            "42. InsectAway - Ultrasonic insect repeller wristband.\n",
            "43. SleepGuru - Sleep pattern monitoring app.\n",
            "44. ShelfBot - Personal library organizer.\n",
            "45. EcoCharge - Foot-powered portable charger.\n",
            "46. MoodSpeaker - Music selects according to emotion.\n",
            "47. HeatBeat - Thermal heartbeat tracker.\n",
            "48. SkinGlow - LED light therapy device.\n",
            "49. LaundryFoldingBot - Folding assistance robot.\n",
            "50. InstantShade - Automatic sunshade gadget.\n",
            "51. ShoeWheel - Rotating shoe organizer.\n",
            "52. CouchSurfer - Modular, transforming furniture.\n",
            "53. FreestyleFaucet - Flexible, hands-free tap.\n",
            "54. KinderGuard - Child safety device tracker.\n",
            "55. H2OMiracle - Water-saving showerhead.\n",
            "56. BrainWave - Neurofeedback enhanced games.\n",
            "57. MegaBounce - Customizable trampoline.\n",
            "58. TripPlanner - AI-powered travel assistant.\n",
            "59. GreenClean - Plant-based cleaning products.\n",
            "60. GhostAlarm - Intruder-deterring fake alarm.\n",
            "61. EdiblePack - Biodegradable food packaging.\n",
            "62. PetFilter - Pet hair removal gadget.\n",
            "63. FlashPatch - Quick cloth repair accessory.\n",
            "64. Terraform_Garden - Personalized garden planning app.\n",
            "65. EyeConnect - Virtual reality socializing.\n",
            "66. QuickStitch - Handheld sewing device.\n",
            "67. GarbageGenius - Smart waste management.\n",
            "68. WaterlessWasher - Vacuum-based clothes cleaner.\n",
            "69. TrainingBuddy - Virtual workout partner.\n",
            "70. FoodAnalyze - Nutritional insight gadget.\n",
            "71. MicroSun - Personal portable heater.\n",
            "72. MemoryClock - Event reminder clock.\n",
            "73. StealthCam - Discrete body camera.\n",
            "74. PetSafe - Comprehensive pet protection system.\n",
            "75. AquaGym - Portable underwater gym.\n",
            "76. ColorSense - Instant color matching tool.\n",
            "77. PowerShoe - Energy harvesting footwear.\n",
            "78. SafePost - Social media safety device.\n",
            "79. BlinkCharge - Rapid device charging.\n",
            "80. KeyFinder - Lost keys detection system.\n",
            "81. CouchConfidant - Emotional support AI.\n",
            "82. FitnessDanceMat - Interactive exercise game.\n",
            "83. ToothTracker - Plaque monitoring toothbrush.\n",
            "84. AirQualityDot - Real-time air quality display.\n",
            "85. LightSleeper - Sleep-inducing light system.\n",
            "86. TeleDrone - Drone for virtual travel.\n",
            "87. MemoryStick - Portable data transfer device.\n",
            "88. WearableTranslator - Real-time language translation.\n",
            "89. PainAway - Pain relief patches.\n",
            "90. GreenDrive - Eco-friendly driving assistant.\n",
            "91. LiquidErase - Stain removal pen.\n",
            "92. ShopAssist - Virtual shopping assistant.\n",
            "93. ChillPill - Customizable stress relief toy.\n",
            "94. HydrationMonitor - Smart water intake app.\n",
            "95. ShoeSense - Sole inserts for posture correction.\n",
            "96. E-InkNote - Electronic note-taking pad.\n",
            "97. TaskMaster - Household task management system.\n",
            "98. BabySavvy - Infant care monitoring app.\n",
            "99. GroomMate - Robotic pet grooming device.\n",
            "100. SenseBrella - Weather-forecasting umbrella.\n"
          ]
        }
      ],
      "source": [
        "first_data_gen = prompt_model(datagen_prompts)\n",
        "print(first_data_gen[\"choices\"][0][\"message\"][\"content\"])"
      ]
    },
    {
      "cell_type": "markdown",
      "source": [
        "Okay, now that we have a list of 100 items - let's parse them out into a Python list - also, we can keep track of our total token usage to estimate costs!"
      ],
      "metadata": {
        "id": "rm2m394F5eRT"
      }
    },
    {
      "cell_type": "code",
      "source": [
        "def retrieve_token_usage(open_ai_response):\n",
        "  return sum([tokens for tokens in open_ai_response[\"usage\"].values()])"
      ],
      "metadata": {
        "id": "QRNcGdFf5lYH"
      },
      "execution_count": 19,
      "outputs": []
    },
    {
      "cell_type": "code",
      "source": [
        "f\"We used {retrieve_token_usage(first_data_gen)} tokens\""
      ],
      "metadata": {
        "colab": {
          "base_uri": "https://localhost:8080/",
          "height": 35
        },
        "id": "aNh3SrsI6Aup",
        "outputId": "1db94128-075b-4cdb-a85f-1ed020037783"
      },
      "execution_count": 21,
      "outputs": [
        {
          "output_type": "execute_result",
          "data": {
            "text/plain": [
              "'We used 2308 tokens'"
            ],
            "application/vnd.google.colaboratory.intrinsic+json": {
              "type": "string"
            }
          },
          "metadata": {},
          "execution_count": 21
        }
      ]
    },
    {
      "cell_type": "markdown",
      "source": [
        "The following code might need to be modified based on how your data was returned by OpenAI's endpoint!"
      ],
      "metadata": {
        "id": "7g6-Ywiw7JjG"
      }
    },
    {
      "cell_type": "code",
      "source": [
        "text_response = first_data_gen[\"choices\"][0][\"message\"][\"content\"]\n",
        "\n",
        "products_and_descriptions = []\n",
        "for line in text_response.splitlines():\n",
        "  if \".\" in line:\n",
        "    product_descriptions = line.split(\".\")[1]\n",
        "    product_descriptions_split = product_descriptions.split(\"-\")\n",
        "    products_and_descriptions.append(\n",
        "        {\n",
        "            \"product\" : product_descriptions_split[0][1:-1], \n",
        "            \"description\" : \"-\".join(product_descriptions_split[1:])[1:]\n",
        "        }\n",
        "    )"
      ],
      "metadata": {
        "id": "p6iTuZzx6fWi"
      },
      "execution_count": 37,
      "outputs": []
    },
    {
      "cell_type": "code",
      "source": [
        "products_and_descriptions[0]"
      ],
      "metadata": {
        "colab": {
          "base_uri": "https://localhost:8080/"
        },
        "id": "Hy9zrlXV7uMS",
        "outputId": "1e74fde6-3384-4727-ebed-6b7064e3fea6"
      },
      "execution_count": 51,
      "outputs": [
        {
          "output_type": "execute_result",
          "data": {
            "text/plain": [
              "{'product': 'SmartEyes', 'description': 'Glasses with real-time translation'}"
            ]
          },
          "metadata": {},
          "execution_count": 51
        }
      ]
    },
    {
      "cell_type": "markdown",
      "source": [
        "Now that we have our items parsed out into a Python list - we can go ahead and iterate through each of the items and have whichever OpenAI model you selected create a short marketing email for it!\n",
        "\n",
        "First though, we'll need a system prompt to use!"
      ],
      "metadata": {
        "id": "sLTporSY8QNe"
      }
    },
    {
      "cell_type": "code",
      "source": [
        "system_prompt = create_prompt(\n",
        "    \"system\", \n",
        "    \"You are a marketing executive. You are proficient at writing short, and snappy marketing emails. The emails should be easy to read, and contain excited and vibrant language.\"\n",
        ")"
      ],
      "metadata": {
        "id": "GIu0qZzJ9dPZ"
      },
      "execution_count": 47,
      "outputs": []
    },
    {
      "cell_type": "markdown",
      "source": [
        "We'll also need a user prompt - we'll have to wrap this in a function so we can call it for each item of the 100 items we created above."
      ],
      "metadata": {
        "id": "5sQH5-BN-DAj"
      }
    },
    {
      "cell_type": "code",
      "source": [
        "def generate_user_prompt(product, description):\n",
        "  user_prompt = create_prompt(\n",
        "      \"user\",\n",
        "      f\"Please create a marketing email using this product: {product} and this description: {description}\"\n",
        "  )\n",
        "\n",
        "  return user_prompt"
      ],
      "metadata": {
        "id": "pbF9esxS-KK9"
      },
      "execution_count": 49,
      "outputs": []
    },
    {
      "cell_type": "markdown",
      "source": [
        "Now we're good to start generating our synthetic data! We simply need to iterate through each item - and collate the results into a list of dictionaries!\n",
        "\n",
        "(depending on which model you use, this step might take a long time, and could become expensive!)"
      ],
      "metadata": {
        "id": "tqi_ax8o-iJ2"
      }
    },
    {
      "cell_type": "code",
      "source": [
        "from openai.error import RateLimitError\n",
        "total_token_usage = 0\n",
        "\n",
        "for idx, item in enumerate(products_and_descriptions):\n",
        "  if \"marketing_email\" in item:\n",
        "    continue\n",
        "  print(f\"Working on {idx}\")\n",
        "  user_prompt = generate_user_prompt(item[\"product\"], item[\"description\"])\n",
        "  full_prompt = [system_prompt, user_prompt]\n",
        "  try: \n",
        "    prompt_response = prompt_model(full_prompt)\n",
        "    item[\"marketing_email\"] = prompt_response[\"choices\"][0][\"message\"][\"content\"]\n",
        "    total_token_usage += retrieve_token_usage(prompt_response)\n",
        "  except RateLimitError as e:\n",
        "    continue"
      ],
      "metadata": {
        "id": "fBx7PGNW-raA"
      },
      "execution_count": null,
      "outputs": []
    },
    {
      "cell_type": "code",
      "source": [
        "products_desc_and_marktng_emails_dataset = [p_d_and_m for p_d_and_m in products_and_descriptions if \"marketing_email\" in p_d_and_m]"
      ],
      "metadata": {
        "id": "4gTKNHr1YxpV"
      },
      "execution_count": 79,
      "outputs": []
    },
    {
      "cell_type": "markdown",
      "source": [
        "### Uploading Dataset to HuggingFace Hub\n",
        "\n",
        "Now that we've created our synthetic dataset - let's push it to the HuggingFace hub!\n",
        "\n",
        "As always, the first task is to get the required dependencies."
      ],
      "metadata": {
        "id": "M2DwQSnfX3YJ"
      }
    },
    {
      "cell_type": "code",
      "source": [
        "!pip install huggingface_hub -q"
      ],
      "metadata": {
        "id": "C5HrUWPXoU7k"
      },
      "execution_count": null,
      "outputs": []
    },
    {
      "cell_type": "markdown",
      "source": [
        "Now we can log-in to Hugging Face!\n",
        "\n",
        "Make sure you have a Hugging Face account, and you have set up a read/write token!\n",
        "\n",
        "More info here: https://huggingface.co/docs/hub/security-tokens"
      ],
      "metadata": {
        "id": "AsYiou0LoiyX"
      }
    },
    {
      "cell_type": "code",
      "source": [
        "!huggingface-cli login"
      ],
      "metadata": {
        "id": "i_fslrEAocXQ",
        "colab": {
          "base_uri": "https://localhost:8080/"
        },
        "outputId": "b69f0482-055e-4227-9ebb-5f5118309450"
      },
      "execution_count": 69,
      "outputs": [
        {
          "output_type": "stream",
          "name": "stdout",
          "text": [
            "\n",
            "    _|    _|  _|    _|    _|_|_|    _|_|_|  _|_|_|  _|      _|    _|_|_|      _|_|_|_|    _|_|      _|_|_|  _|_|_|_|\n",
            "    _|    _|  _|    _|  _|        _|          _|    _|_|    _|  _|            _|        _|    _|  _|        _|\n",
            "    _|_|_|_|  _|    _|  _|  _|_|  _|  _|_|    _|    _|  _|  _|  _|  _|_|      _|_|_|    _|_|_|_|  _|        _|_|_|\n",
            "    _|    _|  _|    _|  _|    _|  _|    _|    _|    _|    _|_|  _|    _|      _|        _|    _|  _|        _|\n",
            "    _|    _|    _|_|      _|_|_|    _|_|_|  _|_|_|  _|      _|    _|_|_|      _|        _|    _|    _|_|_|  _|_|_|_|\n",
            "    \n",
            "    To login, `huggingface_hub` requires a token generated from https://huggingface.co/settings/tokens .\n",
            "Token: \n",
            "Add token as git credential? (Y/n) n\n",
            "Token is valid.\n",
            "Your token has been saved to /root/.cache/huggingface/token\n",
            "Login successful\n"
          ]
        }
      ]
    },
    {
      "cell_type": "markdown",
      "source": [
        "Now we can load our data into the desired format - and upload it to the hub!"
      ],
      "metadata": {
        "id": "dzcw9DnAo1u2"
      }
    },
    {
      "cell_type": "code",
      "source": [
        "!pip install datasets -q"
      ],
      "metadata": {
        "id": "k-W6NSjrrSt0"
      },
      "execution_count": null,
      "outputs": []
    },
    {
      "cell_type": "code",
      "source": [
        "from datasets import load_dataset, Dataset\n",
        "import pandas as pd"
      ],
      "metadata": {
        "id": "319x0ZlJrNrZ"
      },
      "execution_count": 71,
      "outputs": []
    },
    {
      "cell_type": "code",
      "source": [
        "hf_dataset = Dataset.from_pandas(pd.DataFrame(data=products_desc_and_marktng_emails_dataset))"
      ],
      "metadata": {
        "id": "ohM2ANNFrYxL"
      },
      "execution_count": 80,
      "outputs": []
    },
    {
      "cell_type": "code",
      "source": [
        "hf_dataset"
      ],
      "metadata": {
        "colab": {
          "base_uri": "https://localhost:8080/"
        },
        "id": "XOQgiUutxH8a",
        "outputId": "a14dceea-4455-4ba1-ae55-db0179a20590"
      },
      "execution_count": 81,
      "outputs": [
        {
          "output_type": "execute_result",
          "data": {
            "text/plain": [
              "Dataset({\n",
              "    features: ['product', 'description', 'marketing_email'],\n",
              "    num_rows: 75\n",
              "})"
            ]
          },
          "metadata": {},
          "execution_count": 81
        }
      ]
    },
    {
      "cell_type": "code",
      "source": [
        "hf_username = \"<YOUR HF USERNAME HERE>\"\n",
        "dataset_name = \"<YOUR DATASET NAME HERE>\"\n",
        "\n",
        "hf_dataset.push_to_hub(f\"{hf_username}/{dataset_name}\")"
      ],
      "metadata": {
        "id": "_wRUnFg0xIy5",
        "colab": {
          "base_uri": "https://localhost:8080/",
          "height": 113,
          "referenced_widgets": [
            "56cb41150e7946ff98e85f3e98554f11",
            "b3bda87328894f1f88acb5a58d85e618",
            "2657ffcc97ba49ea9a99d5e1a8fed5d9",
            "f0d50321445940628d4e5430cbf49078",
            "5e1da74b337948059e4c190709efb612",
            "53b237d5c69946e788ba8f7dfbcf1a5b",
            "fec58b1cd5984f0e8d1c5a95102febf9",
            "ac8cae10120e43588f29cf754c150987",
            "be3c957f6aa841448b7b26d2479c9460",
            "0c294f7b392d49a59c6ffa4b3a99fa4c",
            "24d5d7e8b75c449ba236749d8eaee10b",
            "2eedcaed2faf477e82406b041087e381",
            "1784eb603393416fa38815a83c01f70b",
            "1f662fedf7cc46f899403a9455ebd662",
            "c075395631b14a2f90074c9ba1b55859",
            "b496465e9ecb49e599d8518c507bb100",
            "02bcb8e1935041ae8929224220805391",
            "2d4932a7a21c43a8bcd7795c64d807a1",
            "b8c3892a237b4f789f0d8970ddc6ba51",
            "4a6f9c5c9f4749148e18b34fc7e33fcc",
            "ba1a779bd05e4015935495fb50eddbda",
            "690e3acac3c94d7ebbdbbaa0149d86b0",
            "8a5d616903d545ef9585590083ce4f5e",
            "a876e87b9e114e65ae49a7277b1160d1",
            "7fcb9d28d31e4637939efd2fc459fe4a",
            "4dbef53ee2ad4cacac1e6691e0b08269",
            "e62f0f1dabdc4d1a918db817ccaf962b",
            "9aab345c584642ae8b443a76769676ff",
            "e5d2c99685a141bd92b5e656046c7b00",
            "9c9054403fc5495eb48c4adfa94b885c",
            "d4ac0a7d558e407e9640038841b97423",
            "61ec12c369a8441e8399ac29433b7d04",
            "5b30aac5c5a14aa3859a7e9af4554ad4"
          ]
        },
        "outputId": "a74307e1-94f7-4f3d-dcc8-a1929c05c3bf"
      },
      "execution_count": 82,
      "outputs": [
        {
          "output_type": "display_data",
          "data": {
            "text/plain": [
              "Pushing dataset shards to the dataset hub:   0%|          | 0/1 [00:00<?, ?it/s]"
            ],
            "application/vnd.jupyter.widget-view+json": {
              "version_major": 2,
              "version_minor": 0,
              "model_id": "56cb41150e7946ff98e85f3e98554f11"
            }
          },
          "metadata": {}
        },
        {
          "output_type": "display_data",
          "data": {
            "text/plain": [
              "Creating parquet from Arrow format:   0%|          | 0/1 [00:00<?, ?ba/s]"
            ],
            "application/vnd.jupyter.widget-view+json": {
              "version_major": 2,
              "version_minor": 0,
              "model_id": "2eedcaed2faf477e82406b041087e381"
            }
          },
          "metadata": {}
        },
        {
          "output_type": "display_data",
          "data": {
            "text/plain": [
              "Upload 1 LFS files:   0%|          | 0/1 [00:00<?, ?it/s]"
            ],
            "application/vnd.jupyter.widget-view+json": {
              "version_major": 2,
              "version_minor": 0,
              "model_id": "8a5d616903d545ef9585590083ce4f5e"
            }
          },
          "metadata": {}
        }
      ]
    },
    {
      "cell_type": "markdown",
      "source": [
        "### Conclusion\n",
        "\n",
        "And that's it! You just created a synthetic dataset and pushed it to the hub! \n",
        "\n",
        "Next stop? [Modeling!](https://colab.research.google.com/drive/1RfUuzG11Q8AaZuJIHLzXCVC087xoDeSd?usp=sharing)"
      ],
      "metadata": {
        "id": "WNkaJ9m4ZP6B"
      }
    }
  ],
  "metadata": {
    "kernelspec": {
      "display_name": "open_ai",
      "language": "python",
      "name": "python3"
    },
    "language_info": {
      "codemirror_mode": {
        "name": "ipython",
        "version": 3
      },
      "file_extension": ".py",
      "mimetype": "text/x-python",
      "name": "python",
      "nbconvert_exporter": "python",
      "pygments_lexer": "ipython3",
      "version": "3.10.10"
    },
    "orig_nbformat": 4,
    "colab": {
      "provenance": []
    },
    "widgets": {
      "application/vnd.jupyter.widget-state+json": {
        "56cb41150e7946ff98e85f3e98554f11": {
          "model_module": "@jupyter-widgets/controls",
          "model_name": "HBoxModel",
          "model_module_version": "1.5.0",
          "state": {
            "_dom_classes": [],
            "_model_module": "@jupyter-widgets/controls",
            "_model_module_version": "1.5.0",
            "_model_name": "HBoxModel",
            "_view_count": null,
            "_view_module": "@jupyter-widgets/controls",
            "_view_module_version": "1.5.0",
            "_view_name": "HBoxView",
            "box_style": "",
            "children": [
              "IPY_MODEL_b3bda87328894f1f88acb5a58d85e618",
              "IPY_MODEL_2657ffcc97ba49ea9a99d5e1a8fed5d9",
              "IPY_MODEL_f0d50321445940628d4e5430cbf49078"
            ],
            "layout": "IPY_MODEL_5e1da74b337948059e4c190709efb612"
          }
        },
        "b3bda87328894f1f88acb5a58d85e618": {
          "model_module": "@jupyter-widgets/controls",
          "model_name": "HTMLModel",
          "model_module_version": "1.5.0",
          "state": {
            "_dom_classes": [],
            "_model_module": "@jupyter-widgets/controls",
            "_model_module_version": "1.5.0",
            "_model_name": "HTMLModel",
            "_view_count": null,
            "_view_module": "@jupyter-widgets/controls",
            "_view_module_version": "1.5.0",
            "_view_name": "HTMLView",
            "description": "",
            "description_tooltip": null,
            "layout": "IPY_MODEL_53b237d5c69946e788ba8f7dfbcf1a5b",
            "placeholder": "​",
            "style": "IPY_MODEL_fec58b1cd5984f0e8d1c5a95102febf9",
            "value": "Pushing dataset shards to the dataset hub: 100%"
          }
        },
        "2657ffcc97ba49ea9a99d5e1a8fed5d9": {
          "model_module": "@jupyter-widgets/controls",
          "model_name": "FloatProgressModel",
          "model_module_version": "1.5.0",
          "state": {
            "_dom_classes": [],
            "_model_module": "@jupyter-widgets/controls",
            "_model_module_version": "1.5.0",
            "_model_name": "FloatProgressModel",
            "_view_count": null,
            "_view_module": "@jupyter-widgets/controls",
            "_view_module_version": "1.5.0",
            "_view_name": "ProgressView",
            "bar_style": "success",
            "description": "",
            "description_tooltip": null,
            "layout": "IPY_MODEL_ac8cae10120e43588f29cf754c150987",
            "max": 1,
            "min": 0,
            "orientation": "horizontal",
            "style": "IPY_MODEL_be3c957f6aa841448b7b26d2479c9460",
            "value": 1
          }
        },
        "f0d50321445940628d4e5430cbf49078": {
          "model_module": "@jupyter-widgets/controls",
          "model_name": "HTMLModel",
          "model_module_version": "1.5.0",
          "state": {
            "_dom_classes": [],
            "_model_module": "@jupyter-widgets/controls",
            "_model_module_version": "1.5.0",
            "_model_name": "HTMLModel",
            "_view_count": null,
            "_view_module": "@jupyter-widgets/controls",
            "_view_module_version": "1.5.0",
            "_view_name": "HTMLView",
            "description": "",
            "description_tooltip": null,
            "layout": "IPY_MODEL_0c294f7b392d49a59c6ffa4b3a99fa4c",
            "placeholder": "​",
            "style": "IPY_MODEL_24d5d7e8b75c449ba236749d8eaee10b",
            "value": " 1/1 [00:02&lt;00:00,  2.57s/it]"
          }
        },
        "5e1da74b337948059e4c190709efb612": {
          "model_module": "@jupyter-widgets/base",
          "model_name": "LayoutModel",
          "model_module_version": "1.2.0",
          "state": {
            "_model_module": "@jupyter-widgets/base",
            "_model_module_version": "1.2.0",
            "_model_name": "LayoutModel",
            "_view_count": null,
            "_view_module": "@jupyter-widgets/base",
            "_view_module_version": "1.2.0",
            "_view_name": "LayoutView",
            "align_content": null,
            "align_items": null,
            "align_self": null,
            "border": null,
            "bottom": null,
            "display": null,
            "flex": null,
            "flex_flow": null,
            "grid_area": null,
            "grid_auto_columns": null,
            "grid_auto_flow": null,
            "grid_auto_rows": null,
            "grid_column": null,
            "grid_gap": null,
            "grid_row": null,
            "grid_template_areas": null,
            "grid_template_columns": null,
            "grid_template_rows": null,
            "height": null,
            "justify_content": null,
            "justify_items": null,
            "left": null,
            "margin": null,
            "max_height": null,
            "max_width": null,
            "min_height": null,
            "min_width": null,
            "object_fit": null,
            "object_position": null,
            "order": null,
            "overflow": null,
            "overflow_x": null,
            "overflow_y": null,
            "padding": null,
            "right": null,
            "top": null,
            "visibility": null,
            "width": null
          }
        },
        "53b237d5c69946e788ba8f7dfbcf1a5b": {
          "model_module": "@jupyter-widgets/base",
          "model_name": "LayoutModel",
          "model_module_version": "1.2.0",
          "state": {
            "_model_module": "@jupyter-widgets/base",
            "_model_module_version": "1.2.0",
            "_model_name": "LayoutModel",
            "_view_count": null,
            "_view_module": "@jupyter-widgets/base",
            "_view_module_version": "1.2.0",
            "_view_name": "LayoutView",
            "align_content": null,
            "align_items": null,
            "align_self": null,
            "border": null,
            "bottom": null,
            "display": null,
            "flex": null,
            "flex_flow": null,
            "grid_area": null,
            "grid_auto_columns": null,
            "grid_auto_flow": null,
            "grid_auto_rows": null,
            "grid_column": null,
            "grid_gap": null,
            "grid_row": null,
            "grid_template_areas": null,
            "grid_template_columns": null,
            "grid_template_rows": null,
            "height": null,
            "justify_content": null,
            "justify_items": null,
            "left": null,
            "margin": null,
            "max_height": null,
            "max_width": null,
            "min_height": null,
            "min_width": null,
            "object_fit": null,
            "object_position": null,
            "order": null,
            "overflow": null,
            "overflow_x": null,
            "overflow_y": null,
            "padding": null,
            "right": null,
            "top": null,
            "visibility": null,
            "width": null
          }
        },
        "fec58b1cd5984f0e8d1c5a95102febf9": {
          "model_module": "@jupyter-widgets/controls",
          "model_name": "DescriptionStyleModel",
          "model_module_version": "1.5.0",
          "state": {
            "_model_module": "@jupyter-widgets/controls",
            "_model_module_version": "1.5.0",
            "_model_name": "DescriptionStyleModel",
            "_view_count": null,
            "_view_module": "@jupyter-widgets/base",
            "_view_module_version": "1.2.0",
            "_view_name": "StyleView",
            "description_width": ""
          }
        },
        "ac8cae10120e43588f29cf754c150987": {
          "model_module": "@jupyter-widgets/base",
          "model_name": "LayoutModel",
          "model_module_version": "1.2.0",
          "state": {
            "_model_module": "@jupyter-widgets/base",
            "_model_module_version": "1.2.0",
            "_model_name": "LayoutModel",
            "_view_count": null,
            "_view_module": "@jupyter-widgets/base",
            "_view_module_version": "1.2.0",
            "_view_name": "LayoutView",
            "align_content": null,
            "align_items": null,
            "align_self": null,
            "border": null,
            "bottom": null,
            "display": null,
            "flex": null,
            "flex_flow": null,
            "grid_area": null,
            "grid_auto_columns": null,
            "grid_auto_flow": null,
            "grid_auto_rows": null,
            "grid_column": null,
            "grid_gap": null,
            "grid_row": null,
            "grid_template_areas": null,
            "grid_template_columns": null,
            "grid_template_rows": null,
            "height": null,
            "justify_content": null,
            "justify_items": null,
            "left": null,
            "margin": null,
            "max_height": null,
            "max_width": null,
            "min_height": null,
            "min_width": null,
            "object_fit": null,
            "object_position": null,
            "order": null,
            "overflow": null,
            "overflow_x": null,
            "overflow_y": null,
            "padding": null,
            "right": null,
            "top": null,
            "visibility": null,
            "width": null
          }
        },
        "be3c957f6aa841448b7b26d2479c9460": {
          "model_module": "@jupyter-widgets/controls",
          "model_name": "ProgressStyleModel",
          "model_module_version": "1.5.0",
          "state": {
            "_model_module": "@jupyter-widgets/controls",
            "_model_module_version": "1.5.0",
            "_model_name": "ProgressStyleModel",
            "_view_count": null,
            "_view_module": "@jupyter-widgets/base",
            "_view_module_version": "1.2.0",
            "_view_name": "StyleView",
            "bar_color": null,
            "description_width": ""
          }
        },
        "0c294f7b392d49a59c6ffa4b3a99fa4c": {
          "model_module": "@jupyter-widgets/base",
          "model_name": "LayoutModel",
          "model_module_version": "1.2.0",
          "state": {
            "_model_module": "@jupyter-widgets/base",
            "_model_module_version": "1.2.0",
            "_model_name": "LayoutModel",
            "_view_count": null,
            "_view_module": "@jupyter-widgets/base",
            "_view_module_version": "1.2.0",
            "_view_name": "LayoutView",
            "align_content": null,
            "align_items": null,
            "align_self": null,
            "border": null,
            "bottom": null,
            "display": null,
            "flex": null,
            "flex_flow": null,
            "grid_area": null,
            "grid_auto_columns": null,
            "grid_auto_flow": null,
            "grid_auto_rows": null,
            "grid_column": null,
            "grid_gap": null,
            "grid_row": null,
            "grid_template_areas": null,
            "grid_template_columns": null,
            "grid_template_rows": null,
            "height": null,
            "justify_content": null,
            "justify_items": null,
            "left": null,
            "margin": null,
            "max_height": null,
            "max_width": null,
            "min_height": null,
            "min_width": null,
            "object_fit": null,
            "object_position": null,
            "order": null,
            "overflow": null,
            "overflow_x": null,
            "overflow_y": null,
            "padding": null,
            "right": null,
            "top": null,
            "visibility": null,
            "width": null
          }
        },
        "24d5d7e8b75c449ba236749d8eaee10b": {
          "model_module": "@jupyter-widgets/controls",
          "model_name": "DescriptionStyleModel",
          "model_module_version": "1.5.0",
          "state": {
            "_model_module": "@jupyter-widgets/controls",
            "_model_module_version": "1.5.0",
            "_model_name": "DescriptionStyleModel",
            "_view_count": null,
            "_view_module": "@jupyter-widgets/base",
            "_view_module_version": "1.2.0",
            "_view_name": "StyleView",
            "description_width": ""
          }
        },
        "2eedcaed2faf477e82406b041087e381": {
          "model_module": "@jupyter-widgets/controls",
          "model_name": "HBoxModel",
          "model_module_version": "1.5.0",
          "state": {
            "_dom_classes": [],
            "_model_module": "@jupyter-widgets/controls",
            "_model_module_version": "1.5.0",
            "_model_name": "HBoxModel",
            "_view_count": null,
            "_view_module": "@jupyter-widgets/controls",
            "_view_module_version": "1.5.0",
            "_view_name": "HBoxView",
            "box_style": "",
            "children": [
              "IPY_MODEL_1784eb603393416fa38815a83c01f70b",
              "IPY_MODEL_1f662fedf7cc46f899403a9455ebd662",
              "IPY_MODEL_c075395631b14a2f90074c9ba1b55859"
            ],
            "layout": "IPY_MODEL_b496465e9ecb49e599d8518c507bb100"
          }
        },
        "1784eb603393416fa38815a83c01f70b": {
          "model_module": "@jupyter-widgets/controls",
          "model_name": "HTMLModel",
          "model_module_version": "1.5.0",
          "state": {
            "_dom_classes": [],
            "_model_module": "@jupyter-widgets/controls",
            "_model_module_version": "1.5.0",
            "_model_name": "HTMLModel",
            "_view_count": null,
            "_view_module": "@jupyter-widgets/controls",
            "_view_module_version": "1.5.0",
            "_view_name": "HTMLView",
            "description": "",
            "description_tooltip": null,
            "layout": "IPY_MODEL_02bcb8e1935041ae8929224220805391",
            "placeholder": "​",
            "style": "IPY_MODEL_2d4932a7a21c43a8bcd7795c64d807a1",
            "value": "Creating parquet from Arrow format: 100%"
          }
        },
        "1f662fedf7cc46f899403a9455ebd662": {
          "model_module": "@jupyter-widgets/controls",
          "model_name": "FloatProgressModel",
          "model_module_version": "1.5.0",
          "state": {
            "_dom_classes": [],
            "_model_module": "@jupyter-widgets/controls",
            "_model_module_version": "1.5.0",
            "_model_name": "FloatProgressModel",
            "_view_count": null,
            "_view_module": "@jupyter-widgets/controls",
            "_view_module_version": "1.5.0",
            "_view_name": "ProgressView",
            "bar_style": "success",
            "description": "",
            "description_tooltip": null,
            "layout": "IPY_MODEL_b8c3892a237b4f789f0d8970ddc6ba51",
            "max": 1,
            "min": 0,
            "orientation": "horizontal",
            "style": "IPY_MODEL_4a6f9c5c9f4749148e18b34fc7e33fcc",
            "value": 1
          }
        },
        "c075395631b14a2f90074c9ba1b55859": {
          "model_module": "@jupyter-widgets/controls",
          "model_name": "HTMLModel",
          "model_module_version": "1.5.0",
          "state": {
            "_dom_classes": [],
            "_model_module": "@jupyter-widgets/controls",
            "_model_module_version": "1.5.0",
            "_model_name": "HTMLModel",
            "_view_count": null,
            "_view_module": "@jupyter-widgets/controls",
            "_view_module_version": "1.5.0",
            "_view_name": "HTMLView",
            "description": "",
            "description_tooltip": null,
            "layout": "IPY_MODEL_ba1a779bd05e4015935495fb50eddbda",
            "placeholder": "​",
            "style": "IPY_MODEL_690e3acac3c94d7ebbdbbaa0149d86b0",
            "value": " 1/1 [00:00&lt;00:00, 41.70ba/s]"
          }
        },
        "b496465e9ecb49e599d8518c507bb100": {
          "model_module": "@jupyter-widgets/base",
          "model_name": "LayoutModel",
          "model_module_version": "1.2.0",
          "state": {
            "_model_module": "@jupyter-widgets/base",
            "_model_module_version": "1.2.0",
            "_model_name": "LayoutModel",
            "_view_count": null,
            "_view_module": "@jupyter-widgets/base",
            "_view_module_version": "1.2.0",
            "_view_name": "LayoutView",
            "align_content": null,
            "align_items": null,
            "align_self": null,
            "border": null,
            "bottom": null,
            "display": null,
            "flex": null,
            "flex_flow": null,
            "grid_area": null,
            "grid_auto_columns": null,
            "grid_auto_flow": null,
            "grid_auto_rows": null,
            "grid_column": null,
            "grid_gap": null,
            "grid_row": null,
            "grid_template_areas": null,
            "grid_template_columns": null,
            "grid_template_rows": null,
            "height": null,
            "justify_content": null,
            "justify_items": null,
            "left": null,
            "margin": null,
            "max_height": null,
            "max_width": null,
            "min_height": null,
            "min_width": null,
            "object_fit": null,
            "object_position": null,
            "order": null,
            "overflow": null,
            "overflow_x": null,
            "overflow_y": null,
            "padding": null,
            "right": null,
            "top": null,
            "visibility": null,
            "width": null
          }
        },
        "02bcb8e1935041ae8929224220805391": {
          "model_module": "@jupyter-widgets/base",
          "model_name": "LayoutModel",
          "model_module_version": "1.2.0",
          "state": {
            "_model_module": "@jupyter-widgets/base",
            "_model_module_version": "1.2.0",
            "_model_name": "LayoutModel",
            "_view_count": null,
            "_view_module": "@jupyter-widgets/base",
            "_view_module_version": "1.2.0",
            "_view_name": "LayoutView",
            "align_content": null,
            "align_items": null,
            "align_self": null,
            "border": null,
            "bottom": null,
            "display": null,
            "flex": null,
            "flex_flow": null,
            "grid_area": null,
            "grid_auto_columns": null,
            "grid_auto_flow": null,
            "grid_auto_rows": null,
            "grid_column": null,
            "grid_gap": null,
            "grid_row": null,
            "grid_template_areas": null,
            "grid_template_columns": null,
            "grid_template_rows": null,
            "height": null,
            "justify_content": null,
            "justify_items": null,
            "left": null,
            "margin": null,
            "max_height": null,
            "max_width": null,
            "min_height": null,
            "min_width": null,
            "object_fit": null,
            "object_position": null,
            "order": null,
            "overflow": null,
            "overflow_x": null,
            "overflow_y": null,
            "padding": null,
            "right": null,
            "top": null,
            "visibility": null,
            "width": null
          }
        },
        "2d4932a7a21c43a8bcd7795c64d807a1": {
          "model_module": "@jupyter-widgets/controls",
          "model_name": "DescriptionStyleModel",
          "model_module_version": "1.5.0",
          "state": {
            "_model_module": "@jupyter-widgets/controls",
            "_model_module_version": "1.5.0",
            "_model_name": "DescriptionStyleModel",
            "_view_count": null,
            "_view_module": "@jupyter-widgets/base",
            "_view_module_version": "1.2.0",
            "_view_name": "StyleView",
            "description_width": ""
          }
        },
        "b8c3892a237b4f789f0d8970ddc6ba51": {
          "model_module": "@jupyter-widgets/base",
          "model_name": "LayoutModel",
          "model_module_version": "1.2.0",
          "state": {
            "_model_module": "@jupyter-widgets/base",
            "_model_module_version": "1.2.0",
            "_model_name": "LayoutModel",
            "_view_count": null,
            "_view_module": "@jupyter-widgets/base",
            "_view_module_version": "1.2.0",
            "_view_name": "LayoutView",
            "align_content": null,
            "align_items": null,
            "align_self": null,
            "border": null,
            "bottom": null,
            "display": null,
            "flex": null,
            "flex_flow": null,
            "grid_area": null,
            "grid_auto_columns": null,
            "grid_auto_flow": null,
            "grid_auto_rows": null,
            "grid_column": null,
            "grid_gap": null,
            "grid_row": null,
            "grid_template_areas": null,
            "grid_template_columns": null,
            "grid_template_rows": null,
            "height": null,
            "justify_content": null,
            "justify_items": null,
            "left": null,
            "margin": null,
            "max_height": null,
            "max_width": null,
            "min_height": null,
            "min_width": null,
            "object_fit": null,
            "object_position": null,
            "order": null,
            "overflow": null,
            "overflow_x": null,
            "overflow_y": null,
            "padding": null,
            "right": null,
            "top": null,
            "visibility": null,
            "width": null
          }
        },
        "4a6f9c5c9f4749148e18b34fc7e33fcc": {
          "model_module": "@jupyter-widgets/controls",
          "model_name": "ProgressStyleModel",
          "model_module_version": "1.5.0",
          "state": {
            "_model_module": "@jupyter-widgets/controls",
            "_model_module_version": "1.5.0",
            "_model_name": "ProgressStyleModel",
            "_view_count": null,
            "_view_module": "@jupyter-widgets/base",
            "_view_module_version": "1.2.0",
            "_view_name": "StyleView",
            "bar_color": null,
            "description_width": ""
          }
        },
        "ba1a779bd05e4015935495fb50eddbda": {
          "model_module": "@jupyter-widgets/base",
          "model_name": "LayoutModel",
          "model_module_version": "1.2.0",
          "state": {
            "_model_module": "@jupyter-widgets/base",
            "_model_module_version": "1.2.0",
            "_model_name": "LayoutModel",
            "_view_count": null,
            "_view_module": "@jupyter-widgets/base",
            "_view_module_version": "1.2.0",
            "_view_name": "LayoutView",
            "align_content": null,
            "align_items": null,
            "align_self": null,
            "border": null,
            "bottom": null,
            "display": null,
            "flex": null,
            "flex_flow": null,
            "grid_area": null,
            "grid_auto_columns": null,
            "grid_auto_flow": null,
            "grid_auto_rows": null,
            "grid_column": null,
            "grid_gap": null,
            "grid_row": null,
            "grid_template_areas": null,
            "grid_template_columns": null,
            "grid_template_rows": null,
            "height": null,
            "justify_content": null,
            "justify_items": null,
            "left": null,
            "margin": null,
            "max_height": null,
            "max_width": null,
            "min_height": null,
            "min_width": null,
            "object_fit": null,
            "object_position": null,
            "order": null,
            "overflow": null,
            "overflow_x": null,
            "overflow_y": null,
            "padding": null,
            "right": null,
            "top": null,
            "visibility": null,
            "width": null
          }
        },
        "690e3acac3c94d7ebbdbbaa0149d86b0": {
          "model_module": "@jupyter-widgets/controls",
          "model_name": "DescriptionStyleModel",
          "model_module_version": "1.5.0",
          "state": {
            "_model_module": "@jupyter-widgets/controls",
            "_model_module_version": "1.5.0",
            "_model_name": "DescriptionStyleModel",
            "_view_count": null,
            "_view_module": "@jupyter-widgets/base",
            "_view_module_version": "1.2.0",
            "_view_name": "StyleView",
            "description_width": ""
          }
        },
        "8a5d616903d545ef9585590083ce4f5e": {
          "model_module": "@jupyter-widgets/controls",
          "model_name": "HBoxModel",
          "model_module_version": "1.5.0",
          "state": {
            "_dom_classes": [],
            "_model_module": "@jupyter-widgets/controls",
            "_model_module_version": "1.5.0",
            "_model_name": "HBoxModel",
            "_view_count": null,
            "_view_module": "@jupyter-widgets/controls",
            "_view_module_version": "1.5.0",
            "_view_name": "HBoxView",
            "box_style": "",
            "children": [
              "IPY_MODEL_a876e87b9e114e65ae49a7277b1160d1",
              "IPY_MODEL_7fcb9d28d31e4637939efd2fc459fe4a",
              "IPY_MODEL_4dbef53ee2ad4cacac1e6691e0b08269"
            ],
            "layout": "IPY_MODEL_e62f0f1dabdc4d1a918db817ccaf962b"
          }
        },
        "a876e87b9e114e65ae49a7277b1160d1": {
          "model_module": "@jupyter-widgets/controls",
          "model_name": "HTMLModel",
          "model_module_version": "1.5.0",
          "state": {
            "_dom_classes": [],
            "_model_module": "@jupyter-widgets/controls",
            "_model_module_version": "1.5.0",
            "_model_name": "HTMLModel",
            "_view_count": null,
            "_view_module": "@jupyter-widgets/controls",
            "_view_module_version": "1.5.0",
            "_view_name": "HTMLView",
            "description": "",
            "description_tooltip": null,
            "layout": "IPY_MODEL_9aab345c584642ae8b443a76769676ff",
            "placeholder": "​",
            "style": "IPY_MODEL_e5d2c99685a141bd92b5e656046c7b00",
            "value": "Upload 1 LFS files: 100%"
          }
        },
        "7fcb9d28d31e4637939efd2fc459fe4a": {
          "model_module": "@jupyter-widgets/controls",
          "model_name": "FloatProgressModel",
          "model_module_version": "1.5.0",
          "state": {
            "_dom_classes": [],
            "_model_module": "@jupyter-widgets/controls",
            "_model_module_version": "1.5.0",
            "_model_name": "FloatProgressModel",
            "_view_count": null,
            "_view_module": "@jupyter-widgets/controls",
            "_view_module_version": "1.5.0",
            "_view_name": "ProgressView",
            "bar_style": "success",
            "description": "",
            "description_tooltip": null,
            "layout": "IPY_MODEL_9c9054403fc5495eb48c4adfa94b885c",
            "max": 1,
            "min": 0,
            "orientation": "horizontal",
            "style": "IPY_MODEL_d4ac0a7d558e407e9640038841b97423",
            "value": 1
          }
        },
        "4dbef53ee2ad4cacac1e6691e0b08269": {
          "model_module": "@jupyter-widgets/controls",
          "model_name": "HTMLModel",
          "model_module_version": "1.5.0",
          "state": {
            "_dom_classes": [],
            "_model_module": "@jupyter-widgets/controls",
            "_model_module_version": "1.5.0",
            "_model_name": "HTMLModel",
            "_view_count": null,
            "_view_module": "@jupyter-widgets/controls",
            "_view_module_version": "1.5.0",
            "_view_name": "HTMLView",
            "description": "",
            "description_tooltip": null,
            "layout": "IPY_MODEL_61ec12c369a8441e8399ac29433b7d04",
            "placeholder": "​",
            "style": "IPY_MODEL_5b30aac5c5a14aa3859a7e9af4554ad4",
            "value": " 1/1 [00:01&lt;00:00,  1.65s/it]"
          }
        },
        "e62f0f1dabdc4d1a918db817ccaf962b": {
          "model_module": "@jupyter-widgets/base",
          "model_name": "LayoutModel",
          "model_module_version": "1.2.0",
          "state": {
            "_model_module": "@jupyter-widgets/base",
            "_model_module_version": "1.2.0",
            "_model_name": "LayoutModel",
            "_view_count": null,
            "_view_module": "@jupyter-widgets/base",
            "_view_module_version": "1.2.0",
            "_view_name": "LayoutView",
            "align_content": null,
            "align_items": null,
            "align_self": null,
            "border": null,
            "bottom": null,
            "display": null,
            "flex": null,
            "flex_flow": null,
            "grid_area": null,
            "grid_auto_columns": null,
            "grid_auto_flow": null,
            "grid_auto_rows": null,
            "grid_column": null,
            "grid_gap": null,
            "grid_row": null,
            "grid_template_areas": null,
            "grid_template_columns": null,
            "grid_template_rows": null,
            "height": null,
            "justify_content": null,
            "justify_items": null,
            "left": null,
            "margin": null,
            "max_height": null,
            "max_width": null,
            "min_height": null,
            "min_width": null,
            "object_fit": null,
            "object_position": null,
            "order": null,
            "overflow": null,
            "overflow_x": null,
            "overflow_y": null,
            "padding": null,
            "right": null,
            "top": null,
            "visibility": null,
            "width": null
          }
        },
        "9aab345c584642ae8b443a76769676ff": {
          "model_module": "@jupyter-widgets/base",
          "model_name": "LayoutModel",
          "model_module_version": "1.2.0",
          "state": {
            "_model_module": "@jupyter-widgets/base",
            "_model_module_version": "1.2.0",
            "_model_name": "LayoutModel",
            "_view_count": null,
            "_view_module": "@jupyter-widgets/base",
            "_view_module_version": "1.2.0",
            "_view_name": "LayoutView",
            "align_content": null,
            "align_items": null,
            "align_self": null,
            "border": null,
            "bottom": null,
            "display": null,
            "flex": null,
            "flex_flow": null,
            "grid_area": null,
            "grid_auto_columns": null,
            "grid_auto_flow": null,
            "grid_auto_rows": null,
            "grid_column": null,
            "grid_gap": null,
            "grid_row": null,
            "grid_template_areas": null,
            "grid_template_columns": null,
            "grid_template_rows": null,
            "height": null,
            "justify_content": null,
            "justify_items": null,
            "left": null,
            "margin": null,
            "max_height": null,
            "max_width": null,
            "min_height": null,
            "min_width": null,
            "object_fit": null,
            "object_position": null,
            "order": null,
            "overflow": null,
            "overflow_x": null,
            "overflow_y": null,
            "padding": null,
            "right": null,
            "top": null,
            "visibility": null,
            "width": null
          }
        },
        "e5d2c99685a141bd92b5e656046c7b00": {
          "model_module": "@jupyter-widgets/controls",
          "model_name": "DescriptionStyleModel",
          "model_module_version": "1.5.0",
          "state": {
            "_model_module": "@jupyter-widgets/controls",
            "_model_module_version": "1.5.0",
            "_model_name": "DescriptionStyleModel",
            "_view_count": null,
            "_view_module": "@jupyter-widgets/base",
            "_view_module_version": "1.2.0",
            "_view_name": "StyleView",
            "description_width": ""
          }
        },
        "9c9054403fc5495eb48c4adfa94b885c": {
          "model_module": "@jupyter-widgets/base",
          "model_name": "LayoutModel",
          "model_module_version": "1.2.0",
          "state": {
            "_model_module": "@jupyter-widgets/base",
            "_model_module_version": "1.2.0",
            "_model_name": "LayoutModel",
            "_view_count": null,
            "_view_module": "@jupyter-widgets/base",
            "_view_module_version": "1.2.0",
            "_view_name": "LayoutView",
            "align_content": null,
            "align_items": null,
            "align_self": null,
            "border": null,
            "bottom": null,
            "display": null,
            "flex": null,
            "flex_flow": null,
            "grid_area": null,
            "grid_auto_columns": null,
            "grid_auto_flow": null,
            "grid_auto_rows": null,
            "grid_column": null,
            "grid_gap": null,
            "grid_row": null,
            "grid_template_areas": null,
            "grid_template_columns": null,
            "grid_template_rows": null,
            "height": null,
            "justify_content": null,
            "justify_items": null,
            "left": null,
            "margin": null,
            "max_height": null,
            "max_width": null,
            "min_height": null,
            "min_width": null,
            "object_fit": null,
            "object_position": null,
            "order": null,
            "overflow": null,
            "overflow_x": null,
            "overflow_y": null,
            "padding": null,
            "right": null,
            "top": null,
            "visibility": null,
            "width": null
          }
        },
        "d4ac0a7d558e407e9640038841b97423": {
          "model_module": "@jupyter-widgets/controls",
          "model_name": "ProgressStyleModel",
          "model_module_version": "1.5.0",
          "state": {
            "_model_module": "@jupyter-widgets/controls",
            "_model_module_version": "1.5.0",
            "_model_name": "ProgressStyleModel",
            "_view_count": null,
            "_view_module": "@jupyter-widgets/base",
            "_view_module_version": "1.2.0",
            "_view_name": "StyleView",
            "bar_color": null,
            "description_width": ""
          }
        },
        "61ec12c369a8441e8399ac29433b7d04": {
          "model_module": "@jupyter-widgets/base",
          "model_name": "LayoutModel",
          "model_module_version": "1.2.0",
          "state": {
            "_model_module": "@jupyter-widgets/base",
            "_model_module_version": "1.2.0",
            "_model_name": "LayoutModel",
            "_view_count": null,
            "_view_module": "@jupyter-widgets/base",
            "_view_module_version": "1.2.0",
            "_view_name": "LayoutView",
            "align_content": null,
            "align_items": null,
            "align_self": null,
            "border": null,
            "bottom": null,
            "display": null,
            "flex": null,
            "flex_flow": null,
            "grid_area": null,
            "grid_auto_columns": null,
            "grid_auto_flow": null,
            "grid_auto_rows": null,
            "grid_column": null,
            "grid_gap": null,
            "grid_row": null,
            "grid_template_areas": null,
            "grid_template_columns": null,
            "grid_template_rows": null,
            "height": null,
            "justify_content": null,
            "justify_items": null,
            "left": null,
            "margin": null,
            "max_height": null,
            "max_width": null,
            "min_height": null,
            "min_width": null,
            "object_fit": null,
            "object_position": null,
            "order": null,
            "overflow": null,
            "overflow_x": null,
            "overflow_y": null,
            "padding": null,
            "right": null,
            "top": null,
            "visibility": null,
            "width": null
          }
        },
        "5b30aac5c5a14aa3859a7e9af4554ad4": {
          "model_module": "@jupyter-widgets/controls",
          "model_name": "DescriptionStyleModel",
          "model_module_version": "1.5.0",
          "state": {
            "_model_module": "@jupyter-widgets/controls",
            "_model_module_version": "1.5.0",
            "_model_name": "DescriptionStyleModel",
            "_view_count": null,
            "_view_module": "@jupyter-widgets/base",
            "_view_module_version": "1.2.0",
            "_view_name": "StyleView",
            "description_width": ""
          }
        }
      }
    }
  },
  "nbformat": 4,
  "nbformat_minor": 0
}