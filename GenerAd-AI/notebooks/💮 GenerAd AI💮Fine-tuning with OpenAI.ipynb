{
  "cells": [
    {
      "cell_type": "markdown",
      "metadata": {
        "id": "jEIgk2Rg2YYP"
      },
      "source": [
        "# Fine-tuning GPT-3 for 💮 GenerAd 💮!\n",
        "\n",
        "We'll walk through another example of fine-tuning, this time we'll use OpenAI's GPT-3 model. "
      ]
    },
    {
      "cell_type": "markdown",
      "metadata": {
        "id": "2NY3mGaE2YYR"
      },
      "source": [
        "### Getting Requirements"
      ]
    },
    {
      "cell_type": "code",
      "execution_count": null,
      "metadata": {
        "id": "tsW9Pxbp2YYR"
      },
      "outputs": [],
      "source": [
        "!pip install openai"
      ]
    },
    {
      "cell_type": "code",
      "execution_count": null,
      "metadata": {
        "id": "eihDmnqb2YYR"
      },
      "outputs": [],
      "source": [
        "import openai\n",
        "openai.api_key = \"\""
      ]
    },
    {
      "cell_type": "markdown",
      "metadata": {
        "id": "WPC5k8Nf2YYR"
      },
      "source": [
        "### Setting up Data\n",
        "\n",
        "We'll want to ensure our data is in the following format as per OpenAI [suggestions](https://platform.openai.com/docs/guides/fine-tuning): \n",
        "\n",
        "```\n",
        "{\"prompt\" : \"<PRODUCT NAME>: <PRODUCT DESCRIPTION>\\n\\n###\\n\\n\", \"completion\" : \"<SWEET AD> END\"}\n",
        "```\n",
        "\n",
        "So we'll need to transform our data into this format."
      ]
    },
    {
      "cell_type": "markdown",
      "metadata": {
        "id": "1YkW32na2YYS"
      },
      "source": [
        "### Logging Into Hugging Face"
      ]
    },
    {
      "cell_type": "code",
      "execution_count": null,
      "metadata": {
        "id": "-ygCaP9Z2YYS",
        "outputId": "eb660403-80f9-4016-b6a0-a84cbb8d8afb"
      },
      "outputs": [
        {
          "name": "stdout",
          "output_type": "stream",
          "text": [
            "Token is valid.\n",
            "Your token has been saved in your configured git credential helpers (store).\n",
            "Your token has been saved to /home/chris/.cache/huggingface/token\n",
            "Login successful\n"
          ]
        }
      ],
      "source": [
        "from huggingface_hub import notebook_login\n",
        "\n",
        "notebook_login()"
      ]
    },
    {
      "cell_type": "code",
      "execution_count": null,
      "metadata": {
        "colab": {
          "referenced_widgets": [
            "3fda90dc891b4279a11b85c799a4156f"
          ]
        },
        "id": "YfonaEfB2YYS",
        "outputId": "45b20fdf-5c4e-4f3d-a93a-0bbc65a9e994"
      },
      "outputs": [
        {
          "name": "stderr",
          "output_type": "stream",
          "text": [
            "Found cached dataset parquet (/home/chris/.cache/huggingface/datasets/c-s-ale___parquet/c-s-ale--Product-Descriptions-and-Ads-e60cdaa742e1bbad/0.0.0/2a3b91fbd88a2c90d1dbbb32b460cf621d31bd5b05b934492fdef7d8d6f236ec)\n"
          ]
        },
        {
          "data": {
            "application/vnd.jupyter.widget-view+json": {
              "model_id": "3fda90dc891b4279a11b85c799a4156f",
              "version_major": 2,
              "version_minor": 0
            },
            "text/plain": [
              "  0%|          | 0/2 [00:00<?, ?it/s]"
            ]
          },
          "metadata": {},
          "output_type": "display_data"
        }
      ],
      "source": [
        "from datasets import load_dataset\n",
        "\n",
        "dataset = load_dataset(\"c-s-ale/Product-Descriptions-and-Ads\")"
      ]
    },
    {
      "cell_type": "code",
      "execution_count": null,
      "metadata": {
        "id": "okCnw4oG2YYS"
      },
      "outputs": [],
      "source": [
        "def transform_to_openai_format(row):\n",
        "    return {\"prompt\" : f\"{row['product']}: {row['description']}\\n\\n###\\n\\n\", \"completion\" : f\"{row['ad']} END\"}"
      ]
    },
    {
      "cell_type": "markdown",
      "metadata": {
        "id": "vNxvJ_rs2YYS"
      },
      "source": [
        "Now we can map the data to the format we need, and save it to a file in the format OpenAI expects."
      ]
    },
    {
      "cell_type": "code",
      "execution_count": null,
      "metadata": {
        "id": "wzW7sJbF2YYS"
      },
      "outputs": [],
      "source": [
        "import json\n",
        "\n",
        "openai_dataset = [transform_to_openai_format(row) for row in dataset[\"train\"]]\n",
        "\n",
        "with open(\"openai_dataset.jsonl\", \"w\") as f:\n",
        "    for row in openai_dataset:\n",
        "        f.write(json.dumps(row) + \"\\n\")"
      ]
    },
    {
      "cell_type": "markdown",
      "metadata": {
        "id": "wiv-kKxt2YYS"
      },
      "source": [
        "### Prepare to Fine-tune!\n",
        "\n",
        "First, we'll ensure our data is in the correct format."
      ]
    },
    {
      "cell_type": "code",
      "execution_count": null,
      "metadata": {
        "id": "hTHtCbCi2YYS",
        "outputId": "b2538fab-7ee8-4bab-f528-a965709ac7c5"
      },
      "outputs": [
        {
          "name": "stdout",
          "output_type": "stream",
          "text": [
            "Analyzing...\n",
            "\n",
            "- Your file contains 90 prompt-completion pairs. In general, we recommend having at least a few hundred examples. We've found that performance tends to linearly increase for every doubling of the number of examples\n",
            "- All prompts end with suffix `.\\n\\n###\\n\\n`\n",
            "- All prompts start with prefix ` `\n",
            "- All completions end with suffix ` END`\n",
            "- The completion should start with a whitespace character (` `). This tends to produce better results due to the tokenization we use. See https://platform.openai.com/docs/guides/fine-tuning/preparing-your-dataset for more details\n",
            "\n",
            "Based on the analysis we will perform the following actions:\n",
            "- [Recommended] Add a whitespace character to the beginning of the completion [Y/n]: Y\n",
            "\n",
            "\n",
            "Your data will be written to a new JSONL file. Proceed [Y/n]: Y\n",
            "\n",
            "Wrote modified file to `openai_dataset_prepared (1).jsonl`\n",
            "Feel free to take a look!\n",
            "\n",
            "Now use that file when fine-tuning:\n",
            "> openai api fine_tunes.create -t \"openai_dataset_prepared (1).jsonl\"\n",
            "\n",
            "After you’ve fine-tuned a model, remember that your prompt has to end with the indicator string `.\\n\\n###\\n\\n` for the model to start generating completions, rather than continuing with the prompt. Make sure to include `stop=[\" END\"]` so that the generated texts ends at the expected place.\n",
            "Once your model starts training, it'll approximately take 3.68 minutes to train a `curie` model, and less for `ada` and `babbage`. Queue will approximately take half an hour per job ahead of you.\n"
          ]
        }
      ],
      "source": [
        "!openai tools fine_tunes.prepare_data -f openai_dataset.jsonl -q"
      ]
    },
    {
      "cell_type": "markdown",
      "metadata": {
        "id": "rcXbBYAq2YYT"
      },
      "source": [
        "Now, we can load our OPENAI_API_KEY into our environment variables and fine-tune!"
      ]
    },
    {
      "cell_type": "code",
      "execution_count": null,
      "metadata": {
        "id": "_xLJLPWK2YYT"
      },
      "outputs": [],
      "source": [
        "import os\n",
        "os.environ[\"OPENAI_API_KEY\"] = \"\""
      ]
    },
    {
      "cell_type": "code",
      "execution_count": null,
      "metadata": {
        "id": "f239cowc2YYT"
      },
      "outputs": [],
      "source": [
        "!openai api fine_tunes.create -t \"openai_dataset_prepared.jsonl\" -m \"ada\" --suffix \"GenerAd\""
      ]
    },
    {
      "cell_type": "markdown",
      "metadata": {
        "id": "Or-BHDSd2YYT"
      },
      "source": [
        "You can continue to watch your model fine-tune with the following command:"
      ]
    },
    {
      "cell_type": "code",
      "execution_count": null,
      "metadata": {
        "id": "vdRDxuf-2YYT"
      },
      "outputs": [],
      "source": [
        "!openai api fine_tunes.follow -i <YOUR FINETUNE ID>"
      ]
    },
    {
      "cell_type": "markdown",
      "metadata": {
        "id": "j1Qw7NTw2YYT"
      },
      "source": [
        "### Trying it out!"
      ]
    },
    {
      "cell_type": "code",
      "execution_count": null,
      "metadata": {
        "id": "kxOjplas2YYT"
      },
      "outputs": [],
      "source": [
        "model = \"YOUR MODEL HERE\""
      ]
    },
    {
      "cell_type": "markdown",
      "metadata": {
        "id": "daZFOgqT2YYT"
      },
      "source": [
        "#### Example in Training Set"
      ]
    },
    {
      "cell_type": "code",
      "execution_count": null,
      "metadata": {
        "id": "B7VThZuC2YYT",
        "outputId": "79c3bc88-4f49-4ce9-ce0e-fb2b0e29b4af"
      },
      "outputs": [
        {
          "data": {
            "text/plain": [
              "' Discover our new Lace-up Sandals - the perfect blend of style and comfort! Wrap your feet in comfortable shorts or tops that provide azuweki-style rope-style comfort. Shop now and turn heads - #ToughStockPower'"
            ]
          },
          "execution_count": 5,
          "metadata": {},
          "output_type": "execute_result"
        }
      ],
      "source": [
        "openai.Completion.create(\n",
        "    model = model,\n",
        "    prompt = \"Lace-up sandals: Shoes featuring laces or ties that wrap around the foot and, in some cases, the ankle.\\n\\n###\\n\\n\",\n",
        "    max_tokens = 50,\n",
        ")[\"choices\"][0][\"text\"]"
      ]
    },
    {
      "cell_type": "code",
      "execution_count": null,
      "metadata": {
        "id": "efc1YudQ2YYT",
        "outputId": "7f41e5b8-45ca-4491-dfdd-4953b2ebe5b2"
      },
      "outputs": [
        {
          "data": {
            "text/plain": [
              "\" Stay warm & stylish this season with our adorable Breakaway Sundress. Party on top of the girl's cool, purple polka dots. Don't let the chill go, turn up on your way to sparkly success! Get yours now! END\""
            ]
          },
          "execution_count": 16,
          "metadata": {},
          "output_type": "execute_result"
        }
      ],
      "source": [
        "openai.Completion.create(\n",
        "    model = model,\n",
        "    prompt = \"Sundress: A flowery yellow sundress with blue polka dots.\\n\\n###\\n\\n\",\n",
        "    max_tokens = 50,\n",
        ")[\"choices\"][0][\"text\"]"
      ]
    },
    {
      "cell_type": "code",
      "execution_count": null,
      "metadata": {
        "id": "0p5Xjr5f2YYT",
        "outputId": "52d1da0c-1fac-41b2-bba5-ed9e290e2b56"
      },
      "outputs": [
        {
          "data": {
            "text/plain": [
              "' Upgrade your lifestyle by adding style and sophistication to your Lexus brand as we launch a new model: Grey & Tinted! Experience comfort & sophistication with strong sobriety standards. Get yours today! #LexusYearmondiff #WithH'"
            ]
          },
          "execution_count": 7,
          "metadata": {},
          "output_type": "execute_result"
        }
      ],
      "source": [
        "openai.Completion.create(\n",
        "    model = model,\n",
        "    prompt = \"A new Lexus: A luxury automobile with grey paint and tinted windows.\\n\\n###\\n\\n\",\n",
        "    max_tokens = 50,\n",
        ")[\"choices\"][0][\"text\"]"
      ]
    }
  ],
  "metadata": {
    "kernelspec": {
      "display_name": "open_ai",
      "language": "python",
      "name": "python3"
    },
    "language_info": {
      "codemirror_mode": {
        "name": "ipython",
        "version": 3
      },
      "file_extension": ".py",
      "mimetype": "text/x-python",
      "name": "python",
      "nbconvert_exporter": "python",
      "pygments_lexer": "ipython3",
      "version": "3.10.10"
    },
    "orig_nbformat": 4,
    "colab": {
      "provenance": []
    }
  },
  "nbformat": 4,
  "nbformat_minor": 0
}
