{
  "cells": [
    {
      "cell_type": "markdown",
      "source": [
        "### OpenAI Access\n",
        "\n",
        "First things first, you'll need to set-up an account on [OpenAI](platform.openai.com). Once you've done that - follow [these resources](https://help.openai.com/en/articles/4936850-where-do-i-find-my-secret-api-key) to create an API key. Make sure you save your API key!"
      ],
      "metadata": {
        "id": "saLMqCm7huKq"
      }
    },
    {
      "cell_type": "code",
      "source": [
        "!pip install openai"
      ],
      "metadata": {
        "id": "UpeXOOlfqZCb"
      },
      "execution_count": null,
      "outputs": []
    },
    {
      "cell_type": "code",
      "execution_count": null,
      "metadata": {
        "id": "Ktti2bvoYrWc"
      },
      "outputs": [],
      "source": [
        "import os \n",
        "\n",
        "# Set the OPENAI_API_KEY environment variable\n",
        "os.environ[\"OPENAI_API_KEY\"] = \"\""
      ]
    },
    {
      "cell_type": "code",
      "execution_count": null,
      "metadata": {
        "id": "EluoMmF3YrWd"
      },
      "outputs": [],
      "source": [
        "import openai\n",
        "import os\n",
        "from IPython.display import display, Markdown\n",
        "\n",
        "class Prompter:\n",
        "    def __init__(self, gpt_model):\n",
        "        if not os.environ.get(\"OPENAI_API_KEY\"):\n",
        "            raise Exception(\"Please set the OPENAI_API_KEY environment variable\")\n",
        "\n",
        "        openai.api_key = os.environ.get(\"OPENAI_API_KEY\")\n",
        "\n",
        "        self.gpt_model = gpt_model\n",
        "\n",
        "    def prompt_model_print(self, messages: list):\n",
        "        response = openai.ChatCompletion.create(model=self.gpt_model, messages=messages)\n",
        "        display(Markdown(response[\"choices\"][0][\"message\"][\"content\"]))\n",
        "    \n",
        "    def prompt_model_return(self, messages: list):\n",
        "        response = openai.ChatCompletion.create(model=self.gpt_model, messages=messages)\n",
        "        return response[\"choices\"][0][\"message\"][\"content\"]"
      ]
    },
    {
      "cell_type": "markdown",
      "source": [
        "Replace `\"OPEN_AI_MODEL\"` with the following:\n",
        "\n",
        "If you just set up your OpenAI acct., you'll want to use: `\"gpt-3.5-turbo\"`\n",
        "\n",
        "If you have access to GPT-4, go ahead and use `\"gpt-4\"`."
      ],
      "metadata": {
        "id": "kC0YtUELhwdU"
      }
    },
    {
      "cell_type": "code",
      "execution_count": null,
      "metadata": {
        "id": "_w3nnDhnYrWd"
      },
      "outputs": [],
      "source": [
        "prompter = Prompter(\"OPEN_AI_MODEL\")"
      ]
    },
    {
      "cell_type": "code",
      "execution_count": null,
      "metadata": {
        "id": "audN435yYrWd"
      },
      "outputs": [],
      "source": [
        "datagen_prompts = [\n",
        "    {\"role\" : \"system\", \"content\" : \"You are a professional fasion designer.\"},\n",
        "    {\"role\" : \"user\", \"content\" : \"Please generate a Python list of 5 clothing items and their descriptions.\"},\n",
        "]"
      ]
    },
    {
      "cell_type": "code",
      "execution_count": null,
      "metadata": {
        "id": "VUJPivDkYrWd",
        "outputId": "a6233559-54fc-453b-c779-34ebcbadf11c"
      },
      "outputs": [
        {
          "data": {
            "text/markdown": [
              "clothing_items = [\n",
              "    {\n",
              "        \"name\": \"Asymmetrical Ruffle Dress\",\n",
              "        \"description\": \"This elegant asymmetrical dress features a single shoulder design with soft ruffles cascading down the side, adding a feminine touch. The lightweight fabric drapes beautifully over the body for a flattering and comfortable fit.\"\n",
              "    },\n",
              "    {\n",
              "        \"name\": \"Wide-leg Trousers\",\n",
              "        \"description\": \"These versatile wide-leg trousers are crafted from a soft, breathable fabric that offer both elegance and comfort. The high-waist design and pleated front create a flattering silhouette, suitable for any occasion.\"\n",
              "    },\n",
              "    {\n",
              "        \"name\": \"Cropped Denim Jacket\",\n",
              "        \"description\": \"This stylish cropped denim jacket adds an edgy touch to any outfit. Designed with a classic collar, button-front closure, and chest button-flap pockets, it is perfect for layering over your favorite tops or dresses.\"\n",
              "    },\n",
              "    {\n",
              "        \"name\": \"Front-tie Blouse\",\n",
              "        \"description\": \"This charming front-tie blouse features a deep V-neckline and flutter sleeves, making it an effortlessly chic addition to your wardrobe. The lightweight, semi-sheer fabric drapes beautifully and can be dressed up or down for any occasion.\"\n",
              "    },\n",
              "    {\n",
              "        \"name\": \"Maxi Skirt\",\n",
              "        \"description\": \"Crafted from a lightweight, flowing fabric, this maxi skirt offers an effortlessly elegant silhouette. The high-waist design is paired with a side slit for added sophistication, making this skirt a staple for both casual and formal attire.\"\n",
              "    }\n",
              "]"
            ],
            "text/plain": [
              "<IPython.core.display.Markdown object>"
            ]
          },
          "metadata": {},
          "output_type": "display_data"
        }
      ],
      "source": [
        "prompter.prompt_model_print(datagen_prompts)"
      ]
    },
    {
      "cell_type": "markdown",
      "metadata": {
        "id": "JnMtCyzrYrWe"
      },
      "source": [
        "Now that we have our initial data, lets create the ads for each of the products. We will use the following function to create the ads."
      ]
    },
    {
      "cell_type": "code",
      "execution_count": null,
      "metadata": {
        "id": "JM-cjMAGYrWe"
      },
      "outputs": [],
      "source": [
        "clothing_items = [ { \"name\": \"Asymmetrical Ruffle Dress\", \"description\": \"This elegant asymmetrical dress features a single shoulder design with soft ruffles cascading down the side, adding a feminine touch. The lightweight fabric drapes beautifully over the body for a flattering and comfortable fit.\" }, { \"name\": \"Wide-leg Trousers\", \"description\": \"These versatile wide-leg trousers are crafted from a soft, breathable fabric that offer both elegance and comfort. The high-waist design and pleated front create a flattering silhouette, suitable for any occasion.\" }, { \"name\": \"Cropped Denim Jacket\", \"description\": \"This stylish cropped denim jacket adds an edgy touch to any outfit. Designed with a classic collar, button-front closure, and chest button-flap pockets, it is perfect for layering over your favorite tops or dresses.\" }, { \"name\": \"Front-tie Blouse\", \"description\": \"This charming front-tie blouse features a deep V-neckline and flutter sleeves, making it an effortlessly chic addition to your wardrobe. The lightweight, semi-sheer fabric drapes beautifully and can be dressed up or down for any occasion.\" }, { \"name\": \"Maxi Skirt\", \"description\": \"Crafted from a lightweight, flowing fabric, this maxi skirt offers an effortlessly elegant silhouette. The high-waist design is paired with a side slit for added sophistication, making this skirt a staple for both casual and formal attire.\" } ]"
      ]
    },
    {
      "cell_type": "code",
      "execution_count": null,
      "metadata": {
        "id": "zsnfAea8YrWf"
      },
      "outputs": [],
      "source": [
        "system_prompt = {\"role\" : \"system\", \"content\" : \"You are a ad executive. Your job is to create a short punchy new ad for the following product.\"}"
      ]
    },
    {
      "cell_type": "code",
      "execution_count": null,
      "metadata": {
        "id": "_fmyXz7pYrWf",
        "outputId": "7b724386-cf9d-4398-9104-db2e7f192f71",
        "colab": {
          "base_uri": "https://localhost:8080/"
        }
      },
      "outputs": [
        {
          "output_type": "stream",
          "name": "stdout",
          "text": [
            "Introducing the Asymmetrical Ruffle Dress: Elegance with a Twist! 💃\n",
            "\n",
            "Flaunt your unique style in our stunning Asymmetrical Ruffle Dress! Turn heads with its one-shoulder sensation, and let the cascading ruffles add a touch of femininity. Drape yourself in lightweight luxury for a flattering, comfortable fit that will make you shine. ✨\n",
            "\n",
            "Be Bold. Be Chic. Be Asymmetrical. Get Ready to Ruffle! 🌟\n",
            "Introducing our game-changer Wide-leg Trousers! 🌟\n",
            "\n",
            "Swing into style and redefine your wardrobe! 💃\n",
            "\n",
            "👖 Experience ultimate elegance and unbeatable comfort in one gorgeous piece.\n",
            "🌬️ Made from soft, breathable fabric that moves with you.\n",
            "⚖️ Flattering high-waisted design and pleated front - perfect for ANY body type and occasion.\n",
            "\n",
            "💎 ELEVATE your look now and step out in confidence with our Wide-leg Trousers! 💎\n",
            "Introducing the Ultimate Style Booster: The Cropped Denim Jacket! 💥👕\n",
            "\n",
            "Upgrade your wardrobe game with this must-have stylish cropped denim jacket. Turn heads wherever you go 🏃‍♀️💨, while adding an edgy touch to your favorite outfits! 😎💃\n",
            "\n",
            "Featuring a classic collar, suave button-front closure, and slick chest button-flap pockets, this masterpiece is perfect for rocking with tops or dresses. Layer it, flaunt it, own it! 💯🔥\n",
            "\n",
            "Get yours now and experience the style revolution. 🌟🛍️ Be chic. Be bold. Be unstoppable with the Cropped Denim Jacket! 💫🔝\n",
            "Introducing the Front-tie Fantasy!\n",
            "\n",
            "💃Swirl and twirl in our beautifully chic Front-tie Blouse!\n",
            "🌟Transform your look with one fabulous piece!\n",
            "❤︎Deep V-neckline: Flirty meets sophistication!\n",
            "🦋Flutter sleeves: Add a touch of whimsy!\n",
            "🔝Perfect for ANY occasion, dress it up or down!\n",
            "🍃Light, semi-sheer fabric: Float through your day with ease!\n",
            "\n",
            "Get ready to turn heads - upgrade your wardrobe TODAY with our Front-tie Fantasy Blouse! ✨\n",
            "Introducing the Maxi Skirt: Elegance Elevated!\n",
            "\n",
            "Seeking a wardrobe staple to transform your style? Look no further! ✨\n",
            "\n",
            "Crafted from lightweight, flowing fabric, our Maxi Skirt promises an elegantly effortless silhouette, perfect for any occasion. 💃\n",
            "\n",
            "Featuring a chic high-waist design and a sultry side-slit, this skirt adds sophistication to your look, whether it's a casual brunch or a night on the town. 🥂\n",
            "\n",
            "Upgrade your wardrobe with the Maxi Skirt and experience elegance elevated! ✨\n",
            "\n",
            "Get yours today and make every step a statement. 💖\n"
          ]
        }
      ],
      "source": [
        "ads = []\n",
        "for item in clothing_items:\n",
        "    user_prompt = {\"role\" : \"user\", \"content\" : f\"Product: {item['name']} Description: {item['description']}\"}\n",
        "    ads.append(prompter.prompt_model_return([system_prompt, user_prompt]))\n",
        "    print(ads[-1])"
      ]
    },
    {
      "cell_type": "markdown",
      "source": [
        "Lets install and use huggingface_hub to push our data to the hub!"
      ],
      "metadata": {
        "id": "qbDpLMZZoV2l"
      }
    },
    {
      "cell_type": "code",
      "source": [
        "!pip install huggingface_hub"
      ],
      "metadata": {
        "colab": {
          "base_uri": "https://localhost:8080/"
        },
        "id": "C5HrUWPXoU7k",
        "outputId": "b40c86a9-6db9-4611-fc7a-cabac78cb318"
      },
      "execution_count": null,
      "outputs": [
        {
          "output_type": "stream",
          "name": "stdout",
          "text": [
            "Looking in indexes: https://pypi.org/simple, https://us-python.pkg.dev/colab-wheels/public/simple/\n",
            "Requirement already satisfied: huggingface_hub in /usr/local/lib/python3.9/dist-packages (0.13.3)\n",
            "Requirement already satisfied: tqdm>=4.42.1 in /usr/local/lib/python3.9/dist-packages (from huggingface_hub) (4.65.0)\n",
            "Requirement already satisfied: requests in /usr/local/lib/python3.9/dist-packages (from huggingface_hub) (2.27.1)\n",
            "Requirement already satisfied: filelock in /usr/local/lib/python3.9/dist-packages (from huggingface_hub) (3.10.7)\n",
            "Requirement already satisfied: pyyaml>=5.1 in /usr/local/lib/python3.9/dist-packages (from huggingface_hub) (6.0)\n",
            "Requirement already satisfied: typing-extensions>=3.7.4.3 in /usr/local/lib/python3.9/dist-packages (from huggingface_hub) (4.5.0)\n",
            "Requirement already satisfied: packaging>=20.9 in /usr/local/lib/python3.9/dist-packages (from huggingface_hub) (23.0)\n",
            "Requirement already satisfied: urllib3<1.27,>=1.21.1 in /usr/local/lib/python3.9/dist-packages (from requests->huggingface_hub) (1.26.15)\n",
            "Requirement already satisfied: certifi>=2017.4.17 in /usr/local/lib/python3.9/dist-packages (from requests->huggingface_hub) (2022.12.7)\n",
            "Requirement already satisfied: idna<4,>=2.5 in /usr/local/lib/python3.9/dist-packages (from requests->huggingface_hub) (3.4)\n",
            "Requirement already satisfied: charset-normalizer~=2.0.0 in /usr/local/lib/python3.9/dist-packages (from requests->huggingface_hub) (2.0.12)\n"
          ]
        }
      ]
    },
    {
      "cell_type": "markdown",
      "source": [
        "Now we can log-in to Hugging Face!\n",
        "\n",
        "Make sure you have a Hugging Face account, and you have set up a read/write token!\n",
        "\n",
        "More info here: https://huggingface.co/docs/hub/security-tokens"
      ],
      "metadata": {
        "id": "AsYiou0LoiyX"
      }
    },
    {
      "cell_type": "code",
      "source": [
        "!huggingface-cli login"
      ],
      "metadata": {
        "id": "i_fslrEAocXQ",
        "colab": {
          "base_uri": "https://localhost:8080/"
        },
        "outputId": "0e72cec0-d725-477c-9817-be0087785a1f"
      },
      "execution_count": null,
      "outputs": [
        {
          "output_type": "stream",
          "name": "stdout",
          "text": [
            "\n",
            "    _|    _|  _|    _|    _|_|_|    _|_|_|  _|_|_|  _|      _|    _|_|_|      _|_|_|_|    _|_|      _|_|_|  _|_|_|_|\n",
            "    _|    _|  _|    _|  _|        _|          _|    _|_|    _|  _|            _|        _|    _|  _|        _|\n",
            "    _|_|_|_|  _|    _|  _|  _|_|  _|  _|_|    _|    _|  _|  _|  _|  _|_|      _|_|_|    _|_|_|_|  _|        _|_|_|\n",
            "    _|    _|  _|    _|  _|    _|  _|    _|    _|    _|    _|_|  _|    _|      _|        _|    _|  _|        _|\n",
            "    _|    _|    _|_|      _|_|_|    _|_|_|  _|_|_|  _|      _|    _|_|_|      _|        _|    _|    _|_|_|  _|_|_|_|\n",
            "    \n",
            "    A token is already saved on your machine. Run `huggingface-cli whoami` to get more information or `huggingface-cli logout` if you want to log out.\n",
            "    Setting a new token will erase the existing one.\n",
            "    To login, `huggingface_hub` requires a token generated from https://huggingface.co/settings/tokens .\n",
            "Token: \n",
            "Add token as git credential? (Y/n) n\n",
            "Token is valid.\n",
            "Your token has been saved to /root/.cache/huggingface/token\n",
            "Login successful\n"
          ]
        }
      ]
    },
    {
      "cell_type": "markdown",
      "source": [
        "Now we can load our data into the desired format - and upload it to the hub!"
      ],
      "metadata": {
        "id": "dzcw9DnAo1u2"
      }
    },
    {
      "cell_type": "code",
      "source": [
        "def create_dataset(clothing_items, ads):\n",
        "  for clothing, ads in zip(clothing_items, ads):\n",
        "    clothing[\"ad\"] = ads\n",
        "\n",
        "  return clothing_items"
      ],
      "metadata": {
        "id": "ATrWOfqIo43n"
      },
      "execution_count": null,
      "outputs": []
    },
    {
      "cell_type": "code",
      "source": [
        "dataset = create_dataset(clothing_items, ads)"
      ],
      "metadata": {
        "id": "gR6CmMSUpWg5"
      },
      "execution_count": null,
      "outputs": []
    },
    {
      "cell_type": "code",
      "source": [
        "!pip install datasets"
      ],
      "metadata": {
        "id": "k-W6NSjrrSt0"
      },
      "execution_count": null,
      "outputs": []
    },
    {
      "cell_type": "code",
      "source": [
        "from datasets import load_dataset, Dataset\n",
        "import pandas as pd"
      ],
      "metadata": {
        "id": "319x0ZlJrNrZ"
      },
      "execution_count": null,
      "outputs": []
    },
    {
      "cell_type": "code",
      "source": [
        "hf_dataset = Dataset.from_pandas(pd.DataFrame(data=dataset))"
      ],
      "metadata": {
        "id": "ohM2ANNFrYxL"
      },
      "execution_count": null,
      "outputs": []
    },
    {
      "cell_type": "code",
      "source": [
        "hf_dataset"
      ],
      "metadata": {
        "colab": {
          "base_uri": "https://localhost:8080/"
        },
        "id": "XOQgiUutxH8a",
        "outputId": "d48d39e3-83d0-4475-95d1-970282cbc396"
      },
      "execution_count": null,
      "outputs": [
        {
          "output_type": "execute_result",
          "data": {
            "text/plain": [
              "Dataset({\n",
              "    features: ['name', 'description', 'ad'],\n",
              "    num_rows: 5\n",
              "})"
            ]
          },
          "metadata": {},
          "execution_count": 32
        }
      ]
    },
    {
      "cell_type": "code",
      "source": [
        "hf_username = \"\"\n",
        "\n",
        "hf_dataset.push_to_hub(f\"{hf_username}/cool_new_dataset\")"
      ],
      "metadata": {
        "id": "_wRUnFg0xIy5"
      },
      "execution_count": null,
      "outputs": []
    }
  ],
  "metadata": {
    "kernelspec": {
      "display_name": "open_ai",
      "language": "python",
      "name": "python3"
    },
    "language_info": {
      "codemirror_mode": {
        "name": "ipython",
        "version": 3
      },
      "file_extension": ".py",
      "mimetype": "text/x-python",
      "name": "python",
      "nbconvert_exporter": "python",
      "pygments_lexer": "ipython3",
      "version": "3.10.10"
    },
    "orig_nbformat": 4,
    "colab": {
      "provenance": []
    }
  },
  "nbformat": 4,
  "nbformat_minor": 0
}